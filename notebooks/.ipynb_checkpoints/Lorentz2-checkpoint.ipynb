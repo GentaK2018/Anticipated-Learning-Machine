{
 "cells": [
  {
   "cell_type": "code",
   "execution_count": 1,
   "id": "630185ee-1e4c-41bd-b68c-59bb902e627f",
   "metadata": {},
   "outputs": [
    {
     "name": "stderr",
     "output_type": "stream",
     "text": [
      "/home/karinog/miniconda3/envs/ds-study/lib/python3.9/site-packages/tqdm/auto.py:22: TqdmWarning: IProgress not found. Please update jupyter and ipywidgets. See https://ipywidgets.readthedocs.io/en/stable/user_install.html\n",
      "  from .autonotebook import tqdm as notebook_tqdm\n"
     ]
    },
    {
     "data": {
      "text/plain": [
       "device(type='cuda', index=0)"
      ]
     },
     "execution_count": 1,
     "metadata": {},
     "output_type": "execute_result"
    }
   ],
   "source": [
    "import torch\n",
    "import torch.nn as nn\n",
    "import torch.utils.data as Data\n",
    "import numpy as np\n",
    "import matplotlib.pyplot as plt\n",
    "# fix random number to ensore the reliability of our results\n",
    "device = torch.device('cuda:0' if torch.cuda.is_available() else 'cpu')\n",
    "SEED = 47\n",
    "torch.manual_seed(SEED)\n",
    "np.random.seed(SEED)\n",
    "torch.backends.cudnn.deterministic = True\n",
    "torch.backends.cudnn.benchmark = False\n",
    "torch.cuda.manual_seed(SEED)\n",
    "device"
   ]
  },
  {
   "cell_type": "code",
   "execution_count": 32,
   "id": "51bb19e8-eded-412c-a5e5-7eba78c0ac3e",
   "metadata": {},
   "outputs": [],
   "source": [
    "def newdropout(data, subspace):\n",
    "    \"\"\"データのうち一部をゼロに置き換えてしまう。これはスモールデータにおいて過学習を防ぐ方法として知られている。\n",
    "    Improving neural networks by preventing co-adaptation of feature detectors\n",
    "    https://arxiv.org/pdf/1207.0580.pdf\n",
    "    \"\"\"\n",
    "    result = np.zeros_like(data)\n",
    "    shuffled_indices=np.random.permutation(data.shape[1])\n",
    "    indices =shuffled_indices[:subspace]\n",
    "    result[:, indices] = data[:, indices]\n",
    "    return result\n",
    "\n",
    "# Framework of neural networks\n",
    "class NN(nn.Module):\n",
    "    def __init__(self, units, activate, dropout):\n",
    "        super(NN, self).__init__()\n",
    "        self.layers = self._make_layer(units, activate,dropout)\n",
    "\n",
    "    def forward(self, x):\n",
    "        predict = self.layers(x)\n",
    "        return predict\n",
    "\n",
    "    def _make_layer(self, units, activate,dropout):\n",
    "        layers = []\n",
    "        for i in range(len(units)-1):\n",
    "            layers += [nn.Linear(units[i], units[i+1]), nn.BatchNorm1d(units[i+1]), activate, nn.Dropout(p=dropout)]\n",
    "        layers += [nn.Linear(units[-1], 1)]\n",
    "        return nn.Sequential(*layers)\n",
    "    \n",
    "def evaluate(output1, output2, alpha, Label, loss_function):\n",
    "    loss1 = loss_function(output1, Label)  # model1の予測と実測の損失関数\n",
    "#     loss2 = (output1 - output2).pow(2).sum().item()/output1.shape[0]\n",
    "    loss2 = loss_function(output1, output2)  # model1の予測とmodel2の予測の損失関数\n",
    "    return loss1, loss2, loss1+alpha*loss2"
   ]
  },
  {
   "cell_type": "markdown",
   "id": "8d69fbb4-a2f0-42a3-8cda-26a08b0fccb2",
   "metadata": {},
   "source": [
    "## データの準備"
   ]
  },
  {
   "cell_type": "code",
   "execution_count": 4,
   "id": "59db39ca-9da6-40f2-a305-bb97fb08854f",
   "metadata": {},
   "outputs": [],
   "source": [
    "period = 0\n",
    "# length of training time points\n",
    "train_time_points = 30  # ここまでを学習データとする"
   ]
  },
  {
   "cell_type": "code",
   "execution_count": 7,
   "id": "0790afc2-b3ab-48b5-8cf3-578a41dd19b9",
   "metadata": {},
   "outputs": [
    {
     "data": {
      "text/plain": [
       "(55, 90)"
      ]
     },
     "execution_count": 7,
     "metadata": {},
     "output_type": "execute_result"
    }
   ],
   "source": [
    "root = \"../dataset/Lorentz/Training\"\n",
    "X = np.loadtxt(f'{root}/Lorentz.txt')\n",
    "X.shape  # 55サンプル、90次元"
   ]
  },
  {
   "cell_type": "code",
   "execution_count": 12,
   "id": "6f94075b-8e1e-4130-b91b-9ba8b4361301",
   "metadata": {},
   "outputs": [],
   "source": [
    "y = np.loadtxt(f'{root}/x.txt')"
   ]
  },
  {
   "cell_type": "code",
   "execution_count": 11,
   "id": "eba2cee5-3949-472f-aed7-0ce99a5dc547",
   "metadata": {},
   "outputs": [],
   "source": [
    "step = 25\n",
    "repeat = 10"
   ]
  },
  {
   "cell_type": "code",
   "execution_count": 18,
   "id": "83d647c5-e110-4c15-a5b2-b36818d177d1",
   "metadata": {},
   "outputs": [],
   "source": [
    "X_val = X[train_time_points - 2:train_time_points, ]\n",
    "X_val = torch.tensor(X_val).to(device)"
   ]
  },
  {
   "cell_type": "code",
   "execution_count": 20,
   "id": "6ce41e00-e4fd-41a7-9d64-68bcfc79dbe8",
   "metadata": {},
   "outputs": [],
   "source": [
    "X_tr_list = []\n",
    "for i in range(step):\n",
    "    # print(step-i-1, train_time_points-i-1)\n",
    "    X_tr_list.append(X[step-i-1:train_time_points-i-1,:])"
   ]
  },
  {
   "cell_type": "code",
   "execution_count": 24,
   "id": "e96d9232-c816-4ee9-8919-649e8460c0ee",
   "metadata": {},
   "outputs": [],
   "source": [
    "final_predicts = np.array([0.0] * step)  # 最終的な予測値の格納先"
   ]
  },
  {
   "cell_type": "markdown",
   "id": "8abc7d21-816f-4f9a-8949-3b2c0db6560b",
   "metadata": {},
   "source": [
    "## モデルの準備"
   ]
  },
  {
   "cell_type": "code",
   "execution_count": 30,
   "id": "a2a9bfde-b6e5-4a4d-b4b4-1cfc8791ec29",
   "metadata": {},
   "outputs": [],
   "source": [
    "cycle = 3\n",
    "LR = 0.005\n",
    "D = 0.8\n",
    "dropout = 0.1\n",
    "n_epochs = 100\n",
    "alpha = 1\n",
    "w = 0\n",
    "activate = nn.LeakyReLU(0.01)"
   ]
  },
  {
   "cell_type": "code",
   "execution_count": 25,
   "id": "ee5d5daa-1880-465c-8d7e-29b7bed28d17",
   "metadata": {},
   "outputs": [],
   "source": [
    "input_size = X.shape[1]\n",
    "units = [input_size]+[500, 200, 150, 50]"
   ]
  },
  {
   "cell_type": "code",
   "execution_count": 26,
   "id": "7a8517a0-3b2f-4ce4-85d8-91b147176e72",
   "metadata": {},
   "outputs": [],
   "source": [
    "loss_function = nn.MSELoss()"
   ]
  },
  {
   "cell_type": "code",
   "execution_count": 49,
   "id": "592f450c-7428-4017-a097-ba23adf4a9ab",
   "metadata": {},
   "outputs": [
    {
     "data": {
      "text/plain": [
       "array([[ 11.39765953,   6.90255471,  34.86421025, -11.31613042,\n",
       "        -16.93200287,  23.01223913,   2.93082655,   2.53741805,\n",
       "         21.55209152,   0.        ,   0.        ,   0.        ,\n",
       "          5.46722629,   6.67831363,  20.95151504,   4.88090585,\n",
       "          0.        ,   8.01347402,   6.83709854,   0.        ,\n",
       "         12.60126085,  -2.47921471,  -4.19723835,  19.36144547,\n",
       "         -1.66053055,   1.5469249 ,   0.        ,   6.37166255,\n",
       "          0.40304048,   0.        ,   2.07578904,   3.54285583,\n",
       "         20.69896146,   8.927476  ,  -0.66907331,  36.04135631,\n",
       "         -5.53492367,  -0.36888383,  30.5181681 ,  -3.23527941,\n",
       "          0.        ,  28.9150336 ,   0.        ,  17.42832156,\n",
       "         20.49982249,   7.26106244,   1.74052959,  31.23965765,\n",
       "        -13.27592481,  -7.57385216,  38.72214813,  -8.97918242,\n",
       "        -15.41708144,  16.87646474,   0.        ,   2.790846  ,\n",
       "          0.        ,   0.77105875,   1.15252591,   0.        ,\n",
       "          5.94213162,   5.58372209,   0.        ,  14.64030625,\n",
       "         17.78765763,   0.        ,   9.01035723,  -0.92986455,\n",
       "         36.47752039,   8.45724611,  15.61606461,  11.69380078,\n",
       "          0.        ,  -5.28132912,  16.46594562,  13.81557364,\n",
       "         17.95914013,  29.18780211,   8.81417522,   0.        ,\n",
       "         17.3453718 ,   1.63965494,   2.5839795 ,   0.        ,\n",
       "        -10.7725352 , -11.13962424,  29.79241328, -11.29288516,\n",
       "        -16.40194186,   0.        ],\n",
       "       [ 10.4776004 ,   5.32634354,  34.35340768, -12.37032824,\n",
       "        -17.44159515,  25.7961916 ,   2.86988305,   2.88430526,\n",
       "         20.58631995,   0.        ,   0.        ,   0.        ,\n",
       "          5.77003332,   7.34813668,  20.63052817,   5.88834163,\n",
       "          0.        ,   8.68453785,   8.00965916,   0.        ,\n",
       "         13.86052382,  -2.8120928 ,  -4.58749076,  18.58289951,\n",
       "         -1.06594885,   1.43678639,   0.        ,   5.29607688,\n",
       "          0.13124264,   0.        ,   2.4112207 ,   3.81816331,\n",
       "         19.78568792,   7.13197605,  -1.77277271,  33.9755385 ,\n",
       "         -4.54280404,  -0.18695575,  28.96050797,  -2.2910122 ,\n",
       "          0.        ,  27.32779872,   0.        ,  18.47895204,\n",
       "         23.57176458,   6.27337083,   1.36595835,  29.82048646,\n",
       "        -11.9352302 ,  -4.78860212,  38.22512673, -10.2432351 ,\n",
       "        -17.02512567,  19.04147685,   0.        ,   3.23963861,\n",
       "          0.        ,   0.8948586 ,   1.39722978,   0.        ,\n",
       "          5.94727088,   5.97083559,   0.        ,  15.06589063,\n",
       "         15.84914224,   0.        ,   7.13418008,  -2.09855261,\n",
       "         34.34183736,  10.04410005,  18.07124237,  14.1240481 ,\n",
       "          0.        ,  -5.93703507,  15.96719026,  14.49570901,\n",
       "         16.79579592,  32.4912999 ,   9.98899603,   0.        ,\n",
       "         19.21383571,   1.90385193,   2.99476042,   0.        ,\n",
       "        -10.74422961, -10.45714302,  30.51132495, -12.23038706,\n",
       "        -16.72601488,   0.        ],\n",
       "       [  9.47084677,   4.04764206,  33.47603373, -13.26584458,\n",
       "        -17.26987619,  28.80840622,   2.8850438 ,   3.2742378 ,\n",
       "         19.69009518,   0.        ,   0.        ,   0.        ,\n",
       "          6.14475756,   8.08255714,  20.45400496,   7.08509961,\n",
       "          0.        ,   9.80178355,   9.32867907,   0.        ,\n",
       "         15.70872471,  -3.16188339,  -5.07409562,  17.89934985,\n",
       "         -0.59550886,   1.3386886 ,   0.        ,   4.3843497 ,\n",
       "          0.05835008,   0.        ,   2.74152194,   4.18331432,\n",
       "         18.95963494,   5.50968316,  -2.36014973,  31.95609942,\n",
       "         -3.71479316,  -0.16440834,  27.47103448,  -1.53218501,\n",
       "          0.        ,  25.85183785,   0.        ,  18.79895408,\n",
       "         27.10091456,   5.4151003 ,   1.20851694,  28.41754396,\n",
       "        -10.37706883,  -2.55492492,  37.03015225, -11.54688888,\n",
       "        -18.32397578,  21.81418117,   0.        ,   3.7513378 ,\n",
       "          0.        ,   1.0496456 ,   1.69301386,   0.        ,\n",
       "          6.02580218,   6.41782257,   0.        ,  14.97800199,\n",
       "         13.07937191,   0.        ,   5.43918722,  -2.71793646,\n",
       "         32.2630501 ,  11.78251015,  20.35160089,  17.48572425,\n",
       "          0.        ,  -6.7114756 ,  15.59233638,  14.75952905,\n",
       "         14.73321532,  35.31908295,  11.20670233,   0.        ,\n",
       "         21.63164381,   2.20858698,   3.49818539,   0.        ,\n",
       "        -10.58212916,  -9.66250442,  31.01823783, -13.00095466,\n",
       "        -16.42687654,   0.        ],\n",
       "       [  8.44983397,   3.09226723,  32.35710807, -13.89755753,\n",
       "        -16.30187345,  31.77647868,   2.97118511,   3.71425462,\n",
       "         18.86708859,   0.        ,   0.        ,   0.        ,\n",
       "          6.58912772,   8.87489739,  20.44290496,   8.48244217,\n",
       "          0.        ,  11.52244907,  10.76372021,   0.        ,\n",
       "         18.24933435,  -3.54356227,  -5.66327345,  17.32063605,\n",
       "         -0.22144206,   1.26852638,   0.        ,   3.63661961,\n",
       "          0.11634708,   0.        ,   3.08483148,   4.6433496 ,\n",
       "         18.22592703,   4.10725974,  -2.60132641,  30.06576325,\n",
       "         -3.04427353,  -0.2424225 ,  26.05853655,  -0.93119166,\n",
       "          0.        ,  24.47539   ,   0.        ,  18.15419666,\n",
       "         30.7980027 ,   4.69691923,   1.20973609,  27.06063019,\n",
       "         -8.74762987,  -0.9403947 ,  35.42678416, -12.80384325,\n",
       "        -19.055951  ,  25.13174199,   0.        ,   4.33739669,\n",
       "          0.        ,   1.24130569,   2.0528373 ,   0.        ,\n",
       "          6.17505336,   6.92112171,   0.        ,  14.35529485,\n",
       "          9.86491982,   0.        ,   3.97526929,  -2.97252059,\n",
       "         30.32857416,  13.57558832,  22.05117961,  21.83580387,\n",
       "          0.        ,  -7.61507574,  15.36617233,  14.54224606,\n",
       "         11.99907655,  37.31728611,  12.39502694,   0.        ,\n",
       "         24.5564435 ,   2.56359011,   4.10918555,   0.        ,\n",
       "        -10.29474565,  -8.81549151,  31.2868663 , -13.51496991,\n",
       "        -15.43052866,   0.        ],\n",
       "       [  7.47409944,   2.44119149,  31.10303447, -14.16625914,\n",
       "        -14.55649983,  34.36320153,   3.12601706,   4.21368471,\n",
       "         18.12282024,   0.        ,   0.        ,   0.        ,\n",
       "          7.09969   ,   9.71198313,  20.62012552,  10.07360101,\n",
       "          0.        ,  14.02883902,  12.25025524,   0.        ,\n",
       "         21.53177984,  -3.97031515,  -6.36240739,  16.86118542,\n",
       "          0.08077157,   1.23525523,   0.        ,   3.04205182,\n",
       "          0.25587885,   0.        ,   3.45652241,   5.20488856,\n",
       "         17.59340734,   2.93352625,  -2.63487691,  28.3266499 ,\n",
       "         -2.51658088,  -0.37988002,  24.72288481,  -0.45905983,\n",
       "          0.        ,  23.18696665,   0.        ,  16.45285077,\n",
       "         34.22981202,   4.1176476 ,   1.32327966,  25.76402861,\n",
       "         -7.1684607 ,   0.11113474,  33.64746719, -13.89259312,\n",
       "        -18.94944089,  28.79079855,   0.        ,   5.01034782,\n",
       "          0.        ,   1.47698033,   2.49229896,   0.        ,\n",
       "          6.39225752,   7.4766932 ,   0.        ,  13.25902385,\n",
       "          6.67779482,   0.        ,   2.75151034,  -3.01153795,\n",
       "         28.55960751,  15.25593038,  22.63215971,  27.01290126,\n",
       "          0.        ,  -8.65580063,  15.32170159,  13.84519273,\n",
       "          8.98025249,  38.28916082,  13.45139204,   0.        ,\n",
       "         27.83328562,   2.97901508,   4.84506017,   0.        ,\n",
       "         -9.90039467,  -7.9774933 ,  31.31350299, -13.69284987,\n",
       "        -13.78006733,   0.        ]])"
      ]
     },
     "execution_count": 49,
     "metadata": {},
     "output_type": "execute_result"
    }
   ],
   "source": [
    "newdropout(X_tr_list[1], int(input_size*D))"
   ]
  },
  {
   "cell_type": "code",
   "execution_count": 31,
   "id": "acaa8959-f4b3-4b99-b9d2-454a615cabed",
   "metadata": {},
   "outputs": [],
   "source": [
    "# 以下をrepeatの数だけ繰り返す。\n",
    "\n",
    "# 予測対象期間だけモデルを用意する\n",
    "models = [NN(units, activate, dropout).to(device).double() for i in range(step)]\n",
    "for i in range(step): # 予測対象期間について順々に学習\n",
    "    optimizers = [torch.optim.Adam(model.parameters(),lr=LR,weight_decay=w) for model in models]\n",
    "    for modelindex in range(1, step):\n",
    "        models[modelindex].train()\n",
    "        for epoch in range(n_epochs):\n",
    "            "
   ]
  },
  {
   "cell_type": "code",
   "execution_count": 14,
   "id": "8d9a64f0-7e3b-4aa6-ab60-56b633f07ff3",
   "metadata": {},
   "outputs": [
    {
     "data": {
      "text/plain": [
       "array([[ 10.4776004 ,   5.32634354,  34.35340768, -12.37032824,\n",
       "        -17.44159515,  25.7961916 ,   2.86988305,   2.88430526,\n",
       "         20.58631995,  11.89438308,   9.99837752,  33.31551428,\n",
       "          5.77003332,   7.34813668,  20.63052817,   5.88834163,\n",
       "         11.33145462,   8.68453785,   8.00965916,  14.19937142,\n",
       "         13.86052382,  -2.8120928 ,  -4.58749076,  18.58289951,\n",
       "         -1.06594885,   1.43678639,  24.29833283,   5.29607688,\n",
       "          0.13124264,  29.48266502,   2.4112207 ,   3.81816331,\n",
       "         19.78568792,   7.13197605,  -1.77277271,  33.9755385 ,\n",
       "         -4.54280404,  -0.18695575,  28.96050797,  -2.2910122 ,\n",
       "          1.60986465,  27.32779872,  12.43752205,  18.47895204,\n",
       "         23.57176458,   6.27337083,   1.36595835,  29.82048646,\n",
       "        -11.9352302 ,  -4.78860212,  38.22512673, -10.2432351 ,\n",
       "        -17.02512567,  19.04147685,   2.95343885,   3.23963861,\n",
       "         18.79506508,   0.8948586 ,   1.39722978,  11.43344997,\n",
       "          5.94727088,   5.97083559,  23.48129177,  15.06589063,\n",
       "         15.84914224,  34.94644209,   7.13418008,  -2.09855261,\n",
       "         34.34183736,  10.04410005,  18.07124237,  14.1240481 ,\n",
       "         -3.4598392 ,  -5.93703507,  15.96719026,  14.49570901,\n",
       "         16.79579592,  32.4912999 ,   9.98899603,  15.86498018,\n",
       "         19.21383571,   1.90385193,   2.99476042,  14.47129515,\n",
       "        -10.74422961, -10.45714302,  30.51132495, -12.23038706,\n",
       "        -16.72601488,  26.49998699],\n",
       "       [  9.47084677,   4.04764206,  33.47603373, -13.26584458,\n",
       "        -17.26987619,  28.80840622,   2.8850438 ,   3.2742378 ,\n",
       "         19.69009518,  11.41809698,   8.52175247,  33.68937253,\n",
       "          6.14475756,   8.08255714,  20.45400496,   7.08509961,\n",
       "         13.5121897 ,   9.80178355,   9.32867907,  16.18724344,\n",
       "         15.70872471,  -3.16188339,  -5.07409562,  17.89934985,\n",
       "         -0.59550886,   1.3386886 ,  23.01542213,   4.3843497 ,\n",
       "          0.05835008,  27.96056924,   2.74152194,   4.18331432,\n",
       "         18.95963494,   5.50968316,  -2.36014973,  31.95609942,\n",
       "         -3.71479316,  -0.16440834,  27.47103448,  -1.53218501,\n",
       "          1.52650371,  25.85183785,  13.62549946,  18.79895408,\n",
       "         27.10091456,   5.4151003 ,   1.20851694,  28.41754396,\n",
       "        -10.37706883,  -2.55492492,  37.03015225, -11.54688888,\n",
       "        -18.32397578,  21.81418117,   3.12033919,   3.7513378 ,\n",
       "         18.02600577,   1.0496456 ,   1.69301386,  10.86937923,\n",
       "          6.02580218,   6.41782257,  22.98350439,  14.97800199,\n",
       "         13.07937191,  37.38581064,   5.43918722,  -2.71793646,\n",
       "         32.2630501 ,  11.78251015,  20.35160089,  17.48572425,\n",
       "         -3.91880459,  -6.7114756 ,  15.59233638,  14.75952905,\n",
       "         14.73321532,  35.31908295,  11.20670233,  17.14335232,\n",
       "         21.63164381,   2.20858698,   3.49818539,  13.85016699,\n",
       "        -10.58212916,  -9.66250442,  31.01823783, -13.00095466,\n",
       "        -16.42687654,  29.21345127],\n",
       "       [  8.44983397,   3.09226723,  32.35710807, -13.89755753,\n",
       "        -16.30187345,  31.77647868,   2.97118511,   3.71425462,\n",
       "         18.86708859,  10.76408799,   7.10263359,  33.6267493 ,\n",
       "          6.58912772,   8.87489739,  20.44290496,   8.48244217,\n",
       "         15.91380995,  11.52244907,  10.76372021,  18.06251497,\n",
       "         18.24933435,  -3.54356227,  -5.66327345,  17.32063605,\n",
       "         -0.22144206,   1.26852638,  21.81105389,   3.63661961,\n",
       "          0.11634708,  26.51592904,   3.08483148,   4.6433496 ,\n",
       "         18.22592703,   4.10725974,  -2.60132641,  30.06576325,\n",
       "         -3.04427353,  -0.2424225 ,  26.05853655,  -0.93119166,\n",
       "          1.42903275,  24.47539   ,  14.56780298,  18.15419666,\n",
       "         30.7980027 ,   4.69691923,   1.20973609,  27.06063019,\n",
       "         -8.74762987,  -0.9403947 ,  35.42678416, -12.80384325,\n",
       "        -19.055951  ,  25.13174199,   3.35383117,   4.33739669,\n",
       "         17.34505759,   1.24130569,   2.0528373 ,  10.34708503,\n",
       "          6.17505336,   6.92112171,  22.58180622,  14.35529485,\n",
       "          9.86491982,  38.73352402,   3.97526929,  -2.97252059,\n",
       "         30.32857416,  13.57558832,  22.05117961,  21.83580387,\n",
       "         -4.45052743,  -7.61507574,  15.36617233,  14.54224606,\n",
       "         11.99907655,  37.31728611,  12.39502694,  17.95377357,\n",
       "         24.5564435 ,   2.56359011,   4.10918555,  13.30794556,\n",
       "        -10.29474565,  -8.81549151,  31.2868663 , -13.51496991,\n",
       "        -15.43052866,  31.82950175],\n",
       "       [  7.47409944,   2.44119149,  31.10303447, -14.16625914,\n",
       "        -14.55649983,  34.36320153,   3.12601706,   4.21368471,\n",
       "         18.12282024,   9.98587207,   5.84538937,  33.1866708 ,\n",
       "          7.09969   ,   9.71198313,  20.62012552,  10.07360101,\n",
       "         18.39601083,  14.02883902,  12.25025524,  19.5551205 ,\n",
       "         21.53177984,  -3.97031515,  -6.36240739,  16.86118542,\n",
       "          0.08077157,   1.23525523,  20.67779591,   3.04205182,\n",
       "          0.25587885,  25.15166727,   3.45652241,   5.20488856,\n",
       "         17.59340734,   2.93352625,  -2.63487691,  28.3266499 ,\n",
       "         -2.51658088,  -0.37988002,  24.72288481,  -0.45905983,\n",
       "          1.34507422,  23.18696665,  15.11970873,  16.45285077,\n",
       "         34.22981202,   4.1176476 ,   1.32327966,  25.76402861,\n",
       "         -7.1684607 ,   0.11113474,  33.64746719, -13.89259312,\n",
       "        -18.94944089,  28.79079855,   3.6560276 ,   5.01034782,\n",
       "         16.76340144,   1.47698033,   2.49229896,   9.87018493,\n",
       "          6.39225752,   7.4766932 ,  22.28963241,  13.25902385,\n",
       "          6.67779482,  38.94977362,   2.75151034,  -3.01153795,\n",
       "         28.55960751,  15.25593038,  22.63215971,  27.01290126,\n",
       "         -5.06572263,  -8.65580063,  15.32170159,  13.84519273,\n",
       "          8.98025249,  38.28916082,  13.45139204,  18.05818085,\n",
       "         27.83328562,   2.97901508,   4.84506017,  12.85857445,\n",
       "         -9.90039467,  -7.9774933 ,  31.31350299, -13.69284987,\n",
       "        -13.78006733,  34.06298911],\n",
       "       [  6.58594406,   2.05159362,  29.79344157, -14.01043703,\n",
       "        -12.20753244,  36.26597075,   3.34966243,   4.78367749,\n",
       "         17.46544292,   9.1417208 ,   4.81335531,  32.45242102,\n",
       "          7.67039052,  10.57132617,  21.00835376,  11.81453209,\n",
       "         20.68882302,  17.47675767,  13.67889116,  20.32359267,\n",
       "         25.47278765,  -4.45443887,  -7.17851589,  16.54099103,\n",
       "          0.33241444,   1.24413266,  19.61002038,   2.58474163,\n",
       "          0.44381262,  23.86545146,   3.8705046 ,   5.87543845,\n",
       "         17.07526703,   1.9750704 ,  -2.56187918,  26.73358438,\n",
       "         -2.11388637,  -0.55004697,  23.46078512,  -0.08832802,\n",
       "          1.29078533,  21.97710942,  15.16934914,  13.82612401,\n",
       "         36.94269191,   3.66942444,   1.51574859,  24.53395348,\n",
       "         -5.72333528,   0.71423547,  31.84642416, -14.67316772,\n",
       "        -17.82220708,  32.44016062,   4.03128762,   5.78316284,\n",
       "         16.29679155,   1.76511974,   3.03002614,   9.44500306,\n",
       "          6.67426137,   8.0786363 ,  22.12136718,  11.81577976,\n",
       "          3.89922472,  38.21049316,   1.75324967,  -2.9430175 ,\n",
       "         26.94830069,  16.5931703 ,  21.60861717,  32.52649832,\n",
       "         -5.77390987,  -9.83452354,  15.50151729,  12.74107598,\n",
       "          6.0769941 ,  38.2484802 ,  14.25457806,  17.27867524,\n",
       "         31.18045629,   3.46633094,   5.72451757,  12.52248516,\n",
       "         -9.42469545,  -7.20160726,  31.11454013, -13.49028208,\n",
       "        -11.64183788,  35.67092674]])"
      ]
     },
     "execution_count": 14,
     "metadata": {},
     "output_type": "execute_result"
    }
   ],
   "source": [
    "NEWINPUTS[0]"
   ]
  },
  {
   "cell_type": "code",
   "execution_count": 8,
   "id": "e4e54d8e-ec38-4ced-af64-7557fa2f519a",
   "metadata": {},
   "outputs": [],
   "source": [
    "X_tr1 = X[1:train_time_points-1,:]  # t1 ~ t28\n",
    "X_tr2 = X[0:train_time_points-2,:]  # t0 ~ t27\n",
    "X_tr1_trc = torch.tensor(train1,dtype=torch.float64)\n",
    "X_tr2_trc = torch.tensor(train2,dtype=torch.float64)\n",
    "INPUT_SIZE = X_tr1.shape[1]\n"
   ]
  },
  {
   "cell_type": "code",
   "execution_count": 10,
   "id": "b9b3925e-791c-40be-9645-d44cc112362e",
   "metadata": {},
   "outputs": [
    {
     "data": {
      "text/plain": [
       "array([[ 4.30532237,  2.98566922, 23.70626533, ..., -6.32701819,\n",
       "        -2.13357258, 30.06205446],\n",
       "       [ 4.15044866,  3.32593112, 22.7349345 , ..., -5.48570843,\n",
       "        -1.92695022, 28.73346745],\n",
       "       [ 4.08841884,  3.72548179, 21.83707314, ..., -4.76907114,\n",
       "        -1.87950821, 27.43083272],\n",
       "       ...,\n",
       "       [12.98255029, 15.16906991, 30.18761236, ..., -3.18655783,\n",
       "        -5.56765015, 13.70211602],\n",
       "       [13.30363694, 14.00537627, 32.37058175, ..., -3.65253484,\n",
       "        -6.43447018, 13.39004451],\n",
       "       [13.30468528, 12.33523865, 34.11427435, ..., -4.20697861,\n",
       "        -7.44863723, 13.22554475]])"
      ]
     },
     "execution_count": 10,
     "metadata": {},
     "output_type": "execute_result"
    }
   ],
   "source": []
  },
  {
   "cell_type": "code",
   "execution_count": 123,
   "id": "5039bea8-c66d-4f20-8c4d-60a9f70ff452",
   "metadata": {},
   "outputs": [
    {
     "data": {
      "text/plain": [
       "[<matplotlib.lines.Line2D at 0x7f9ab22a7400>]"
      ]
     },
     "execution_count": 123,
     "metadata": {},
     "output_type": "execute_result"
    },
    {
     "data": {
      "image/png": "[encoded data removed]",
      "text/plain": [
       "<Figure size 640x480 with 1 Axes>"
      ]
     },
     "metadata": {},
     "output_type": "display_data"
    }
   ],
   "source": [
    "train1 = data[1:train_time_points-1,:]  # t1 ~ t28\n",
    "train2 = data[0:train_time_points-2,:]  # t0 ~ t27\n",
    "Train1 = torch.tensor(train1,dtype=torch.float64)\n",
    "Train2 = torch.tensor(train2,dtype=torch.float64)\n",
    "INPUT_SIZE = train1.shape[1]\n",
    "Label = np.loadtxt(f'{root}/x.txt')\n",
    "plt.plot(Label)"
   ]
  },
  {
   "cell_type": "code",
   "execution_count": 124,
   "id": "a65a851e-d0eb-4859-80b1-1a08f6a4761a",
   "metadata": {},
   "outputs": [
    {
     "data": {
      "text/plain": [
       "torch.Size([2, 90])"
      ]
     },
     "execution_count": 124,
     "metadata": {},
     "output_type": "execute_result"
    }
   ],
   "source": [
    "Pred = data[train_time_points - 2:train_time_points, ]\n",
    "Pred = torch.tensor(Pred).to(device)\n",
    "Pred.shape"
   ]
  },
  {
   "cell_type": "code",
   "execution_count": 125,
   "id": "690a6b72-2cb8-476a-a6a1-e92e7f8b717e",
   "metadata": {},
   "outputs": [
    {
     "data": {
      "text/plain": [
       "90"
      ]
     },
     "execution_count": 125,
     "metadata": {},
     "output_type": "execute_result"
    }
   ],
   "source": [
    "INPUT_SIZE"
   ]
  },
  {
   "cell_type": "code",
   "execution_count": 126,
   "id": "3b581b9e-2607-402f-9b42-44286e6fbd38",
   "metadata": {},
   "outputs": [
    {
     "name": "stdout",
     "output_type": "stream",
     "text": [
      "NN(\n",
      "  (layers): Sequential(\n",
      "    (0): Linear(in_features=90, out_features=500, bias=True)\n",
      "    (1): BatchNorm1d(500, eps=1e-05, momentum=0.1, affine=True, track_running_stats=True)\n",
      "    (2): LeakyReLU(negative_slope=0.01)\n",
      "    (3): Dropout(p=0.1, inplace=False)\n",
      "    (4): Linear(in_features=500, out_features=200, bias=True)\n",
      "    (5): BatchNorm1d(200, eps=1e-05, momentum=0.1, affine=True, track_running_stats=True)\n",
      "    (6): LeakyReLU(negative_slope=0.01)\n",
      "    (7): Dropout(p=0.1, inplace=False)\n",
      "    (8): Linear(in_features=200, out_features=150, bias=True)\n",
      "    (9): BatchNorm1d(150, eps=1e-05, momentum=0.1, affine=True, track_running_stats=True)\n",
      "    (10): LeakyReLU(negative_slope=0.01)\n",
      "    (11): Dropout(p=0.1, inplace=False)\n",
      "    (12): Linear(in_features=150, out_features=50, bias=True)\n",
      "    (13): BatchNorm1d(50, eps=1e-05, momentum=0.1, affine=True, track_running_stats=True)\n",
      "    (14): LeakyReLU(negative_slope=0.01)\n",
      "    (15): Dropout(p=0.1, inplace=False)\n",
      "    (16): Linear(in_features=50, out_features=1, bias=True)\n",
      "  )\n",
      ")\n"
     ]
    }
   ],
   "source": [
    "units = [INPUT_SIZE]+[500, 200, 150, 50]\n",
    "net = NN(units)\n",
    "print(net)"
   ]
  },
  {
   "cell_type": "code",
   "execution_count": 127,
   "id": "3b44ff65-d409-4113-bcd3-a2ad687680a9",
   "metadata": {},
   "outputs": [
    {
     "data": {
      "text/plain": [
       "(28, (28, 90))"
      ]
     },
     "execution_count": 127,
     "metadata": {},
     "output_type": "execute_result"
    }
   ],
   "source": [
    "len(label), train1.shape"
   ]
  },
  {
   "cell_type": "code",
   "execution_count": 128,
   "id": "b114b696-1319-4094-ba36-4d0f1230978d",
   "metadata": {},
   "outputs": [
    {
     "name": "stdout",
     "output_type": "stream",
     "text": [
      "0 0\n",
      "0 1\n",
      "0 2\n",
      "0 3\n",
      "0 4\n",
      "1 0\n",
      "1 1\n",
      "1 2\n",
      "1 3\n",
      "1 4\n",
      "2 0\n",
      "2 1\n",
      "2 2\n",
      "2 3\n",
      "2 4\n",
      "3 0\n",
      "3 1\n",
      "3 2\n",
      "3 3\n",
      "3 4\n",
      "4 0\n",
      "4 1\n",
      "4 2\n",
      "4 3\n",
      "4 4\n"
     ]
    }
   ],
   "source": [
    "steps = 5\n",
    "repeating = 5\n",
    "\n",
    "final_predicts = np.array([0.0]*steps)\n",
    "for j in range(repeating):  # 乱数\n",
    "    label = Label[2+period:train_time_points+period,]\n",
    "    label = list(label)\n",
    "    targets = []\n",
    "    predicts = []\n",
    "    errors = []\n",
    "    for index in range(steps): # stepでどこまで\n",
    "        print(j,index)\n",
    "        LABEL = np.array(label).reshape(train_time_points - 2, 1)\n",
    "        LABEL = torch.tensor(LABEL, dtype=torch.float64).to(device)\n",
    "        \n",
    "        # 1個目のモデル定義\n",
    "        model1 = NN(units)\n",
    "        model1 = model1.to(device)\n",
    "        optimizer1 = torch.optim.Adam(model1.parameters(),\n",
    "                                      lr=LR1,\n",
    "                                      weight_decay=w)\n",
    "        # 2個目のモデル定義\n",
    "        model2 = NN(units)\n",
    "        model2 = model2.to(device)\n",
    "        optimizer2 = torch.optim.Adam(model2.parameters(),\n",
    "                                      lr=LR2,\n",
    "                                      weight_decay=w)\n",
    "        loss_function = nn.MSELoss()\n",
    "        \n",
    "        # 学習\n",
    "        model1 = model1.double()\n",
    "        model2 = model2.double()\n",
    "        \n",
    "        modelpreds = []\n",
    "        for epoch in range(EPOCH):\n",
    "            model1.train()\n",
    "            model2.train()\n",
    "            train1_dropout_data = torch.tensor(newdropout(Train1.numpy(), int(INPUT_SIZE*D)),dtype=torch.float64)\n",
    "            train2_dropout_data = torch.tensor(newdropout(Train2.numpy(), int(INPUT_SIZE*D)),dtype=torch.float64)\n",
    "            \n",
    "            train1_dropout_data = train1_dropout_data.to(device)\n",
    "            train2_dropout_data = train2_dropout_data.to(device)\n",
    "            output1 = model1(train1_dropout_data)\n",
    "            output2 = model2(train2_dropout_data)\n",
    "            # loss function\n",
    "            loss11, loss12, loss1 = evaluate(output1, output2, alpha, LABEL, loss_function)\n",
    "            optimizer1.zero_grad()\n",
    "            loss1.backward()\n",
    "            optimizer1.step()\n",
    "            output1 = model1(train1_dropout_data)\n",
    "            output2 = model2(train2_dropout_data)\n",
    "            loss21, loss22, loss2 = evaluate(output2, output1, alpha, LABEL, loss_function)\n",
    "            optimizer2.zero_grad()\n",
    "            loss2.backward()\n",
    "            optimizer2.step()\n",
    "            \n",
    "            # if epoch % 10 == 0:\n",
    "            #     print(f\"epoch : {epoch}, loss1 : {loss1}, loss2 : {loss2}\")\n",
    "            \n",
    "            model1.eval()\n",
    "            model2.eval()\n",
    "            pred1 = model1(Pred)\n",
    "            pred2 = model2(Pred)\n",
    "            modelpreds.append((pred1[1].item() + pred2[0].item()) / 2.0)\n",
    "            \n",
    "        target = Label[train_time_points + index + period]\n",
    "        targets.append(target)\n",
    "        predicts.append(modelpreds[-1])\n",
    "        \n",
    "    predicts, target = np.array(predicts), np.array(targets)\n",
    "    final_predicts += predicts\n",
    "final_predicts /= repeating\n"
   ]
  },
  {
   "cell_type": "code",
   "execution_count": 130,
   "id": "30e6af4f-86a3-4e87-8123-7ce0d8153b3d",
   "metadata": {},
   "outputs": [
    {
     "data": {
      "text/plain": [
       "([15.28224219752453,\n",
       "  16.608352466636138,\n",
       "  17.320396937826036,\n",
       "  17.22474627115457,\n",
       "  16.265122945410646],\n",
       " array([16.41887673, 16.26658327, 16.23041114, 16.14579464, 16.16615155]))"
      ]
     },
     "execution_count": 130,
     "metadata": {},
     "output_type": "execute_result"
    }
   ],
   "source": [
    "targets, final_predicts"
   ]
  },
  {
   "cell_type": "code",
   "execution_count": 102,
   "id": "a09ce614-a52c-490b-abde-f68d8b697029",
   "metadata": {},
   "outputs": [
    {
     "data": {
      "text/plain": [
       "[<matplotlib.lines.Line2D at 0x7f9b033d6a00>]"
      ]
     },
     "execution_count": 102,
     "metadata": {},
     "output_type": "execute_result"
    },
    {
     "data": {
      "image/png": "[encoded data removed]",
      "text/plain": [
       "<Figure size 640x480 with 1 Axes>"
      ]
     },
     "metadata": {},
     "output_type": "display_data"
    }
   ],
   "source": [
    "plt.plot(Label)"
   ]
  },
  {
   "cell_type": "markdown",
   "id": "d1c2dee2-c8ad-4537-83be-50e3276cabe5",
   "metadata": {
    "tags": []
   },
   "source": [
    "## 2期以上先まで予測する場合"
   ]
  },
  {
   "cell_type": "code",
   "execution_count": 166,
   "id": "e160865a-a75f-4b9b-b3c5-5e01f149fc72",
   "metadata": {},
   "outputs": [],
   "source": [
    "step = 2\n",
    "repeat = 10\n",
    "NEWINPUTS = []\n",
    "for i in range(step):\n",
    "    NEWINPUTS.append(data[step-i-1:train_time_points-i-1,:])"
   ]
  },
  {
   "cell_type": "code",
   "execution_count": 167,
   "id": "134f7bdb-cbd8-48a4-8377-c37d43575279",
   "metadata": {},
   "outputs": [],
   "source": [
    "NEWLABELS = Label[step:train_time_points].reshape(-1,1)\n",
    "NEWLABELS = torch.tensor(NEWLABELS, dtype=torch.float64).to(device)\n",
    "def alldropout(data, subspace):\n",
    "    result = [np.zeros_like(d) for d in data]\n",
    "    shuffled_indices=np.random.permutation(data[0].shape[1])\n",
    "    indices =shuffled_indices[:subspace]\n",
    "    for i in range(len(result)):\n",
    "        result[i][:, indices] = data[i][:, indices]\n",
    "    return result\n"
   ]
  },
  {
   "cell_type": "code",
   "execution_count": 169,
   "id": "87b3876e-6541-4d07-822d-6703f82e4d19",
   "metadata": {},
   "outputs": [
    {
     "ename": "NameError",
     "evalue": "name 'mini_train' is not defined",
     "output_type": "error",
     "traceback": [
      "\u001b[0;31m---------------------------------------------------------------------------\u001b[0m",
      "\u001b[0;31mNameError\u001b[0m                                 Traceback (most recent call last)",
      "Input \u001b[0;32mIn [169]\u001b[0m, in \u001b[0;36m<cell line: 13>\u001b[0;34m()\u001b[0m\n\u001b[1;32m     17\u001b[0m         MODELS[i]\u001b[38;5;241m.\u001b[39mload_state_dict(saved_parametes)\n\u001b[1;32m     18\u001b[0m         optimizers \u001b[38;5;241m=\u001b[39m [torch\u001b[38;5;241m.\u001b[39moptim\u001b[38;5;241m.\u001b[39mAdam(model\u001b[38;5;241m.\u001b[39mparameters(),lr\u001b[38;5;241m=\u001b[39mLR,weight_decay\u001b[38;5;241m=\u001b[39mw) \u001b[38;5;28;01mfor\u001b[39;00m model \u001b[38;5;129;01min\u001b[39;00m MODELS]\n\u001b[0;32m---> 19\u001b[0m     final_predicts \u001b[38;5;241m=\u001b[39m final_predicts \u001b[38;5;241m+\u001b[39m \u001b[43mmini_train\u001b[49m(cycle, EPOCH, D, alpha, MODELS, optimizers, loss_function)\n\u001b[1;32m     20\u001b[0m final_predicts \u001b[38;5;241m/\u001b[39m\u001b[38;5;241m=\u001b[39m repeat\n\u001b[1;32m     21\u001b[0m targets \u001b[38;5;241m=\u001b[39m Label[train_time_points:train_time_points\u001b[38;5;241m+\u001b[39mstep]\n",
      "\u001b[0;31mNameError\u001b[0m: name 'mini_train' is not defined"
     ]
    }
   ],
   "source": [
    "cycle = 3\n",
    "EPOCH = 5\n",
    "D = 0.5\n",
    "DROPOUT = 0.5\n",
    "alpha=1\n",
    "LR = 1e-3\n",
    "w = 0\n",
    "\n",
    "final_predicts = np.array([0.0] * step)\n",
    "\n",
    "loss_function = nn.MSELoss()\n",
    "\n",
    "for r in range(repeat):\n",
    "    MODELS = [NN(units).to(device).double() for i in range(step)]\n",
    "    for i in range(step):\n",
    "        saved_parametes = torch.load('./models/'+str(r)+'_'+str(i)+'.pt')\n",
    "        MODELS[i].load_state_dict(saved_parametes)\n",
    "        optimizers = [torch.optim.Adam(model.parameters(),lr=LR,weight_decay=w) for model in MODELS]\n",
    "    final_predicts = final_predicts + mini_train(cycle, EPOCH, D, alpha, MODELS, optimizers, loss_function)\n",
    "final_predicts /= repeat\n",
    "targets = Label[train_time_points:train_time_points+step]\n",
    "targets"
   ]
  },
  {
   "cell_type": "code",
   "execution_count": null,
   "id": "f0ec17ac-6a1d-44d9-892f-a7625ab5a241",
   "metadata": {},
   "outputs": [],
   "source": []
  }
 ],
 "metadata": {
  "kernelspec": {
   "display_name": "Python 3 (ipykernel)",
   "language": "python",
   "name": "python3"
  },
  "language_info": {
   "codemirror_mode": {
    "name": "ipython",
    "version": 3
   },
   "file_extension": ".py",
   "mimetype": "text/x-python",
   "name": "python",
   "nbconvert_exporter": "python",
   "pygments_lexer": "ipython3",
   "version": "3.9.15"
  }
 },
 "nbformat": 4,
 "nbformat_minor": 5
}
