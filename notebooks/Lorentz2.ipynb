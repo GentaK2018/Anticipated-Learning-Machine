{
 "cells": [
  {
   "cell_type": "code",
   "execution_count": 1,
   "id": "630185ee-1e4c-41bd-b68c-59bb902e627f",
   "metadata": {},
   "outputs": [
    {
     "name": "stderr",
     "output_type": "stream",
     "text": [
      "/home/karinog/miniconda3/envs/ds-study/lib/python3.9/site-packages/tqdm/auto.py:22: TqdmWarning: IProgress not found. Please update jupyter and ipywidgets. See https://ipywidgets.readthedocs.io/en/stable/user_install.html\n",
      "  from .autonotebook import tqdm as notebook_tqdm\n"
     ]
    },
    {
     "data": {
      "text/plain": [
       "device(type='cuda', index=0)"
      ]
     },
     "execution_count": 1,
     "metadata": {},
     "output_type": "execute_result"
    }
   ],
   "source": [
    "import torch\n",
    "import torch.nn as nn\n",
    "import torch.utils.data as Data\n",
    "import numpy as np\n",
    "import matplotlib.pyplot as plt\n",
    "# fix random number to ensore the reliability of our results\n",
    "device = torch.device('cuda:0' if torch.cuda.is_available() else 'cpu')\n",
    "SEED = 47\n",
    "torch.manual_seed(SEED)\n",
    "np.random.seed(SEED)\n",
    "torch.backends.cudnn.deterministic = True\n",
    "torch.backends.cudnn.benchmark = False\n",
    "torch.cuda.manual_seed(SEED)\n",
    "device"
   ]
  },
  {
   "cell_type": "code",
   "execution_count": 50,
   "id": "51bb19e8-eded-412c-a5e5-7eba78c0ac3e",
   "metadata": {},
   "outputs": [],
   "source": [
    "def newdropout(data, subspace):\n",
    "    \"\"\"データのうち一部をゼロに置き換えてしまう。これはスモールデータにおいて過学習を防ぐ方法として知られている。\n",
    "    Improving neural networks by preventing co-adaptation of feature detectors\n",
    "    https://arxiv.org/pdf/1207.0580.pdf\n",
    "    \"\"\"\n",
    "    result = np.zeros_like(data)\n",
    "    shuffled_indices=np.random.permutation(data.shape[1])\n",
    "    indices =shuffled_indices[:subspace]\n",
    "    result[:, indices] = data[:, indices]\n",
    "    return result\n",
    "\n",
    "# Framework of neural networks\n",
    "class NN(nn.Module):\n",
    "    def __init__(self, units, activate, dropout):\n",
    "        super(NN, self).__init__()\n",
    "        self.layers = self._make_layer(units, activate,dropout)\n",
    "\n",
    "    def forward(self, x):\n",
    "        predict = self.layers(x)\n",
    "        return predict\n",
    "\n",
    "    def _make_layer(self, units, activate,dropout):\n",
    "        layers = []\n",
    "        for i in range(len(units)-1):\n",
    "            layers += [nn.Linear(units[i], units[i+1]), nn.BatchNorm1d(units[i+1]), activate, nn.Dropout(p=dropout)]\n",
    "        layers += [nn.Linear(units[-1], 1)]\n",
    "        return nn.Sequential(*layers)\n",
    "    \n",
    "def evaluate(output1, output2, alpha, Label, loss_function):\n",
    "    loss1 = loss_function(output1, Label)  # model1の予測と実測の損失関数\n",
    "#     loss2 = (output1 - output2).pow(2).sum().item()/output1.shape[0]\n",
    "    loss2 = loss_function(output1, output2)  # model1の予測とmodel2の予測の損失関数\n",
    "    return loss1, loss2, loss1+alpha*loss2"
   ]
  },
  {
   "cell_type": "markdown",
   "id": "8d69fbb4-a2f0-42a3-8cda-26a08b0fccb2",
   "metadata": {},
   "source": [
    "## データの準備"
   ]
  },
  {
   "cell_type": "code",
   "execution_count": 4,
   "id": "59db39ca-9da6-40f2-a305-bb97fb08854f",
   "metadata": {},
   "outputs": [],
   "source": [
    "period = 0\n",
    "# length of training time points\n",
    "train_time_points = 30  # ここまでを学習データとする"
   ]
  },
  {
   "cell_type": "code",
   "execution_count": 7,
   "id": "0790afc2-b3ab-48b5-8cf3-578a41dd19b9",
   "metadata": {},
   "outputs": [
    {
     "data": {
      "text/plain": [
       "(55, 90)"
      ]
     },
     "execution_count": 7,
     "metadata": {},
     "output_type": "execute_result"
    }
   ],
   "source": [
    "root = \"../dataset/Lorentz/Training\"\n",
    "X = np.loadtxt(f'{root}/Lorentz.txt')\n",
    "X.shape  # 55サンプル、90次元"
   ]
  },
  {
   "cell_type": "code",
   "execution_count": 98,
   "id": "6f94075b-8e1e-4130-b91b-9ba8b4361301",
   "metadata": {},
   "outputs": [],
   "source": [
    "y = np.loadtxt(f'{root}/x.txt')"
   ]
  },
  {
   "cell_type": "code",
   "execution_count": 201,
   "id": "eba2cee5-3949-472f-aed7-0ce99a5dc547",
   "metadata": {},
   "outputs": [],
   "source": [
    "step = 15\n",
    "repeat = 5"
   ]
  },
  {
   "cell_type": "code",
   "execution_count": 202,
   "id": "83d647c5-e110-4c15-a5b2-b36818d177d1",
   "metadata": {},
   "outputs": [],
   "source": [
    "X_val = X[train_time_points - 2:train_time_points, ]\n",
    "X_val = torch.tensor(X_val).to(device)"
   ]
  },
  {
   "cell_type": "code",
   "execution_count": 203,
   "id": "9b50bfe1-3582-4334-9ada-1f30d2be103f",
   "metadata": {},
   "outputs": [],
   "source": [
    "y_tr = y[step:train_time_points].reshape(-1,1)\n",
    "y_tr = torch.tensor(y_tr, dtype=torch.float64).to(device)"
   ]
  },
  {
   "cell_type": "code",
   "execution_count": 204,
   "id": "095c8ab6-6b24-4e95-bea9-abaaf0ab4ae4",
   "metadata": {},
   "outputs": [
    {
     "data": {
      "text/plain": [
       "torch.Size([15, 1])"
      ]
     },
     "execution_count": 204,
     "metadata": {},
     "output_type": "execute_result"
    }
   ],
   "source": [
    "y_tr.shape"
   ]
  },
  {
   "cell_type": "code",
   "execution_count": 205,
   "id": "6ce41e00-e4fd-41a7-9d64-68bcfc79dbe8",
   "metadata": {},
   "outputs": [],
   "source": [
    "X_tr_list = []\n",
    "for i in range(step):\n",
    "    # print(step-i-1, train_time_points-i-1)\n",
    "    X_tr_list.append(X[step-i-1:train_time_points-i-1,:])"
   ]
  },
  {
   "cell_type": "code",
   "execution_count": 206,
   "id": "e96d9232-c816-4ee9-8919-649e8460c0ee",
   "metadata": {},
   "outputs": [],
   "source": [
    "final_predicts = np.array([0.0] * step)  # 最終的な予測値の格納先"
   ]
  },
  {
   "cell_type": "markdown",
   "id": "8abc7d21-816f-4f9a-8949-3b2c0db6560b",
   "metadata": {},
   "source": [
    "## モデルの準備"
   ]
  },
  {
   "cell_type": "code",
   "execution_count": 222,
   "id": "a2a9bfde-b6e5-4a4d-b4b4-1cfc8791ec29",
   "metadata": {},
   "outputs": [],
   "source": [
    "cycle = 3\n",
    "LR = 0.005\n",
    "D = 0.9\n",
    "dropout = 0.0\n",
    "n_epochs = 300\n",
    "alpha = 0\n",
    "w = 0.0001\n",
    "activate = nn.LeakyReLU(0.7)"
   ]
  },
  {
   "cell_type": "code",
   "execution_count": 223,
   "id": "ee5d5daa-1880-465c-8d7e-29b7bed28d17",
   "metadata": {},
   "outputs": [],
   "source": [
    "input_size = X.shape[1]\n",
    "units = [input_size]+[500, 200, 150, 50]"
   ]
  },
  {
   "cell_type": "code",
   "execution_count": 224,
   "id": "7a8517a0-3b2f-4ce4-85d8-91b147176e72",
   "metadata": {},
   "outputs": [],
   "source": [
    "loss_function = nn.MSELoss()"
   ]
  },
  {
   "cell_type": "code",
   "execution_count": 225,
   "id": "c03b5c82-76a1-43c0-a64c-36dbc943a9e6",
   "metadata": {},
   "outputs": [
    {
     "data": {
      "text/plain": [
       "5"
      ]
     },
     "execution_count": 225,
     "metadata": {},
     "output_type": "execute_result"
    }
   ],
   "source": [
    "repeat"
   ]
  },
  {
   "cell_type": "code",
   "execution_count": 226,
   "id": "879ad978-4249-42aa-840c-ba85fa3252ba",
   "metadata": {},
   "outputs": [],
   "source": [
    "eval_index = np.array([1,4,8])"
   ]
  },
  {
   "cell_type": "code",
   "execution_count": 227,
   "id": "acaa8959-f4b3-4b99-b9d2-454a615cabed",
   "metadata": {},
   "outputs": [
    {
     "name": "stdout",
     "output_type": "stream",
     "text": [
      "4 0 1\n",
      "4 0 2\n",
      "4 0 3\n",
      "4 0 4\n",
      "4 0 5\n",
      "4 0 6\n",
      "4 0 7\n",
      "4 0 8\n",
      "4 0 9\n",
      "4 0 10\n",
      "4 0 11\n",
      "4 0 12\n",
      "4 0 13\n",
      "4 0 14\n",
      "4 1 1\n",
      "4 1 2\n",
      "4 1 3\n",
      "4 1 4\n",
      "4 1 5\n",
      "4 1 6\n",
      "4 1 7\n",
      "4 1 8\n",
      "4 1 9\n",
      "4 1 10\n",
      "4 1 11\n",
      "4 1 12\n",
      "4 1 13\n",
      "4 1 14\n",
      "4 2 1\n",
      "4 2 2\n",
      "4 2 3\n",
      "4 2 4\n",
      "4 2 5\n",
      "4 2 6\n",
      "4 2 7\n",
      "4 2 8\n",
      "4 2 9\n",
      "4 2 10\n",
      "4 2 11\n",
      "4 2 12\n",
      "4 2 13\n",
      "4 2 14\n",
      "5.6200274783055555\n"
     ]
    }
   ],
   "source": [
    "# 以下をrepeatの数だけ繰り返す。\n",
    "\n",
    "# 予測対象期間だけモデルを用意する\n",
    "\n",
    "models = [NN(units, activate, dropout).to(device).double() for i in range(step)]\n",
    "optimizers = [torch.optim.Adam(model.parameters(),lr=LR,weight_decay=w) for model in models]\n",
    "# for r in range(repeat):\n",
    "    \n",
    "for j in range(cycle):\n",
    "    for modelindex in range(1, step): # 予測対象期間について順々に学習\n",
    "        print(r, j, modelindex)\n",
    "        models[modelindex].train()\n",
    "        for epoch in range(n_epochs):\n",
    "            X_tr1 = torch.tensor(newdropout(X_tr_list[modelindex], int(input_size*D)), dtype=torch.float64).to(device)\n",
    "            output1 = models[modelindex](X_tr1)\n",
    "            loss1 = loss_function(output1, y_tr)\n",
    "\n",
    "            models[0].eval()\n",
    "            X_tr0 = torch.tensor(newdropout(X_tr_list[0], int(input_size*D)), dtype=torch.float64).to(device)\n",
    "            output2 = models[0](X_tr0)\n",
    "            for premodelindex in range(1,modelindex):\n",
    "                models[premodelindex].eval()\n",
    "                X_trp = torch.tensor(newdropout(X_tr_list[premodelindex], int(input_size*D)), dtype=torch.float64).to(device)\n",
    "                output2 += models[premodelindex](X_trp)\n",
    "            output2 /= modelindex\n",
    "            loss2 = loss_function(output1, output2)\n",
    "            loss = loss1 + alpha*loss2\n",
    "            # print(loss)\n",
    "            optimizers[modelindex].zero_grad()\n",
    "            loss.backward()\n",
    "            optimizers[modelindex].step()\n",
    "        models[modelindex].eval()\n",
    "\n",
    "    models[0].train()\n",
    "    for epoch in range(n_epochs):\n",
    "        X_tr0 = torch.tensor(newdropout(X_tr_list[0], int(input_size*D)), dtype=torch.float64).to(device)\n",
    "        output1 = models[0](X_tr0)\n",
    "        loss1 = loss_function(output1, y_tr)\n",
    "\n",
    "        models[1].eval()\n",
    "        X_tr1 = torch.tensor(newdropout(X_tr_list[1], int(input_size*D)), dtype=torch.float64).to(device)\n",
    "        output2 = models[1](X_tr1)\n",
    "        for aftermodelindex in range(2,step):\n",
    "            models[aftermodelindex].eval()\n",
    "            X_tra = torch.tensor(newdropout(X_tr_list[aftermodelindex], int(input_size*D)), dtype=torch.float64).to(device)\n",
    "            output2 += models[aftermodelindex](X_tra)\n",
    "        output2 /= (step-1)\n",
    "        loss2 = loss_function(output1, output2)\n",
    "        loss = loss1 + alpha*loss2\n",
    "        optimizers[0].zero_grad()\n",
    "        loss.backward()\n",
    "        optimizers[0].step()\n",
    "    models[0].eval()\n",
    "\n",
    "preds = np.array([model(X_val[1:2,:])[0].item() for model in models])\n",
    "mae = np.abs(preds - y[train_time_points:train_time_points+step]).mean()\n",
    "print(mae)\n",
    "# final_predicts += preds\n",
    "# final_predicts /= repeat"
   ]
  },
  {
   "cell_type": "code",
   "execution_count": 228,
   "id": "539a7112-8b76-45ba-b492-a6198fec9b1e",
   "metadata": {},
   "outputs": [
    {
     "data": {
      "text/plain": [
       "[<matplotlib.lines.Line2D at 0x7fc3a7784d90>]"
      ]
     },
     "execution_count": 228,
     "metadata": {},
     "output_type": "execute_result"
    },
    {
     "data": {
      "image/png": "[encoded data removed]",
      "text/plain": [
       "<Figure size 640x480 with 1 Axes>"
      ]
     },
     "metadata": {},
     "output_type": "display_data"
    }
   ],
   "source": [
    "plt.plot(preds)\n",
    "plt.plot(y[train_time_points:])"
   ]
  },
  {
   "cell_type": "code",
   "execution_count": 8,
   "id": "e4e54d8e-ec38-4ced-af64-7557fa2f519a",
   "metadata": {},
   "outputs": [],
   "source": [
    "X_tr1 = X[1:train_time_points-1,:]  # t1 ~ t28\n",
    "X_tr2 = X[0:train_time_points-2,:]  # t0 ~ t27\n",
    "X_tr1_trc = torch.tensor(train1,dtype=torch.float64)\n",
    "X_tr2_trc = torch.tensor(train2,dtype=torch.float64)\n",
    "INPUT_SIZE = X_tr1.shape[1]\n"
   ]
  },
  {
   "cell_type": "code",
   "execution_count": 10,
   "id": "b9b3925e-791c-40be-9645-d44cc112362e",
   "metadata": {},
   "outputs": [
    {
     "data": {
      "text/plain": [
       "array([[ 4.30532237,  2.98566922, 23.70626533, ..., -6.32701819,\n",
       "        -2.13357258, 30.06205446],\n",
       "       [ 4.15044866,  3.32593112, 22.7349345 , ..., -5.48570843,\n",
       "        -1.92695022, 28.73346745],\n",
       "       [ 4.08841884,  3.72548179, 21.83707314, ..., -4.76907114,\n",
       "        -1.87950821, 27.43083272],\n",
       "       ...,\n",
       "       [12.98255029, 15.16906991, 30.18761236, ..., -3.18655783,\n",
       "        -5.56765015, 13.70211602],\n",
       "       [13.30363694, 14.00537627, 32.37058175, ..., -3.65253484,\n",
       "        -6.43447018, 13.39004451],\n",
       "       [13.30468528, 12.33523865, 34.11427435, ..., -4.20697861,\n",
       "        -7.44863723, 13.22554475]])"
      ]
     },
     "execution_count": 10,
     "metadata": {},
     "output_type": "execute_result"
    }
   ],
   "source": []
  },
  {
   "cell_type": "code",
   "execution_count": 123,
   "id": "5039bea8-c66d-4f20-8c4d-60a9f70ff452",
   "metadata": {},
   "outputs": [
    {
     "data": {
      "text/plain": [
       "[<matplotlib.lines.Line2D at 0x7f9ab22a7400>]"
      ]
     },
     "execution_count": 123,
     "metadata": {},
     "output_type": "execute_result"
    },
    {
     "data": {
      "image/png": "[encoded data removed]",
      "text/plain": [
       "<Figure size 640x480 with 1 Axes>"
      ]
     },
     "metadata": {},
     "output_type": "display_data"
    }
   ],
   "source": [
    "train1 = data[1:train_time_points-1,:]  # t1 ~ t28\n",
    "train2 = data[0:train_time_points-2,:]  # t0 ~ t27\n",
    "Train1 = torch.tensor(train1,dtype=torch.float64)\n",
    "Train2 = torch.tensor(train2,dtype=torch.float64)\n",
    "INPUT_SIZE = train1.shape[1]\n",
    "Label = np.loadtxt(f'{root}/x.txt')\n",
    "plt.plot(Label)"
   ]
  },
  {
   "cell_type": "code",
   "execution_count": 124,
   "id": "a65a851e-d0eb-4859-80b1-1a08f6a4761a",
   "metadata": {},
   "outputs": [
    {
     "data": {
      "text/plain": [
       "torch.Size([2, 90])"
      ]
     },
     "execution_count": 124,
     "metadata": {},
     "output_type": "execute_result"
    }
   ],
   "source": [
    "Pred = data[train_time_points - 2:train_time_points, ]\n",
    "Pred = torch.tensor(Pred).to(device)\n",
    "Pred.shape"
   ]
  },
  {
   "cell_type": "code",
   "execution_count": 125,
   "id": "690a6b72-2cb8-476a-a6a1-e92e7f8b717e",
   "metadata": {},
   "outputs": [
    {
     "data": {
      "text/plain": [
       "90"
      ]
     },
     "execution_count": 125,
     "metadata": {},
     "output_type": "execute_result"
    }
   ],
   "source": [
    "INPUT_SIZE"
   ]
  },
  {
   "cell_type": "code",
   "execution_count": 126,
   "id": "3b581b9e-2607-402f-9b42-44286e6fbd38",
   "metadata": {},
   "outputs": [
    {
     "name": "stdout",
     "output_type": "stream",
     "text": [
      "NN(\n",
      "  (layers): Sequential(\n",
      "    (0): Linear(in_features=90, out_features=500, bias=True)\n",
      "    (1): BatchNorm1d(500, eps=1e-05, momentum=0.1, affine=True, track_running_stats=True)\n",
      "    (2): LeakyReLU(negative_slope=0.01)\n",
      "    (3): Dropout(p=0.1, inplace=False)\n",
      "    (4): Linear(in_features=500, out_features=200, bias=True)\n",
      "    (5): BatchNorm1d(200, eps=1e-05, momentum=0.1, affine=True, track_running_stats=True)\n",
      "    (6): LeakyReLU(negative_slope=0.01)\n",
      "    (7): Dropout(p=0.1, inplace=False)\n",
      "    (8): Linear(in_features=200, out_features=150, bias=True)\n",
      "    (9): BatchNorm1d(150, eps=1e-05, momentum=0.1, affine=True, track_running_stats=True)\n",
      "    (10): LeakyReLU(negative_slope=0.01)\n",
      "    (11): Dropout(p=0.1, inplace=False)\n",
      "    (12): Linear(in_features=150, out_features=50, bias=True)\n",
      "    (13): BatchNorm1d(50, eps=1e-05, momentum=0.1, affine=True, track_running_stats=True)\n",
      "    (14): LeakyReLU(negative_slope=0.01)\n",
      "    (15): Dropout(p=0.1, inplace=False)\n",
      "    (16): Linear(in_features=50, out_features=1, bias=True)\n",
      "  )\n",
      ")\n"
     ]
    }
   ],
   "source": [
    "units = [INPUT_SIZE]+[500, 200, 150, 50]\n",
    "net = NN(units)\n",
    "print(net)"
   ]
  },
  {
   "cell_type": "code",
   "execution_count": 127,
   "id": "3b44ff65-d409-4113-bcd3-a2ad687680a9",
   "metadata": {},
   "outputs": [
    {
     "data": {
      "text/plain": [
       "(28, (28, 90))"
      ]
     },
     "execution_count": 127,
     "metadata": {},
     "output_type": "execute_result"
    }
   ],
   "source": [
    "len(label), train1.shape"
   ]
  },
  {
   "cell_type": "code",
   "execution_count": 128,
   "id": "b114b696-1319-4094-ba36-4d0f1230978d",
   "metadata": {},
   "outputs": [
    {
     "name": "stdout",
     "output_type": "stream",
     "text": [
      "0 0\n",
      "0 1\n",
      "0 2\n",
      "0 3\n",
      "0 4\n",
      "1 0\n",
      "1 1\n",
      "1 2\n",
      "1 3\n",
      "1 4\n",
      "2 0\n",
      "2 1\n",
      "2 2\n",
      "2 3\n",
      "2 4\n",
      "3 0\n",
      "3 1\n",
      "3 2\n",
      "3 3\n",
      "3 4\n",
      "4 0\n",
      "4 1\n",
      "4 2\n",
      "4 3\n",
      "4 4\n"
     ]
    }
   ],
   "source": [
    "steps = 5\n",
    "repeating = 5\n",
    "\n",
    "final_predicts = np.array([0.0]*steps)\n",
    "for j in range(repeating):  # 乱数\n",
    "    label = Label[2+period:train_time_points+period,]\n",
    "    label = list(label)\n",
    "    targets = []\n",
    "    predicts = []\n",
    "    errors = []\n",
    "    for index in range(steps): # stepでどこまで\n",
    "        print(j,index)\n",
    "        LABEL = np.array(label).reshape(train_time_points - 2, 1)\n",
    "        LABEL = torch.tensor(LABEL, dtype=torch.float64).to(device)\n",
    "        \n",
    "        # 1個目のモデル定義\n",
    "        model1 = NN(units)\n",
    "        model1 = model1.to(device)\n",
    "        optimizer1 = torch.optim.Adam(model1.parameters(),\n",
    "                                      lr=LR1,\n",
    "                                      weight_decay=w)\n",
    "        # 2個目のモデル定義\n",
    "        model2 = NN(units)\n",
    "        model2 = model2.to(device)\n",
    "        optimizer2 = torch.optim.Adam(model2.parameters(),\n",
    "                                      lr=LR2,\n",
    "                                      weight_decay=w)\n",
    "        loss_function = nn.MSELoss()\n",
    "        \n",
    "        # 学習\n",
    "        model1 = model1.double()\n",
    "        model2 = model2.double()\n",
    "        \n",
    "        modelpreds = []\n",
    "        for epoch in range(EPOCH):\n",
    "            model1.train()\n",
    "            model2.train()\n",
    "            train1_dropout_data = torch.tensor(newdropout(Train1.numpy(), int(INPUT_SIZE*D)),dtype=torch.float64)\n",
    "            train2_dropout_data = torch.tensor(newdropout(Train2.numpy(), int(INPUT_SIZE*D)),dtype=torch.float64)\n",
    "            \n",
    "            train1_dropout_data = train1_dropout_data.to(device)\n",
    "            train2_dropout_data = train2_dropout_data.to(device)\n",
    "            output1 = model1(train1_dropout_data)\n",
    "            output2 = model2(train2_dropout_data)\n",
    "            # loss function\n",
    "            loss11, loss12, loss1 = evaluate(output1, output2, alpha, LABEL, loss_function)\n",
    "            optimizer1.zero_grad()\n",
    "            loss1.backward()\n",
    "            optimizer1.step()\n",
    "            output1 = model1(train1_dropout_data)\n",
    "            output2 = model2(train2_dropout_data)\n",
    "            loss21, loss22, loss2 = evaluate(output2, output1, alpha, LABEL, loss_function)\n",
    "            optimizer2.zero_grad()\n",
    "            loss2.backward()\n",
    "            optimizer2.step()\n",
    "            \n",
    "            # if epoch % 10 == 0:\n",
    "            #     print(f\"epoch : {epoch}, loss1 : {loss1}, loss2 : {loss2}\")\n",
    "            \n",
    "            model1.eval()\n",
    "            model2.eval()\n",
    "            pred1 = model1(Pred)\n",
    "            pred2 = model2(Pred)\n",
    "            modelpreds.append((pred1[1].item() + pred2[0].item()) / 2.0)\n",
    "            \n",
    "        target = Label[train_time_points + index + period]\n",
    "        targets.append(target)\n",
    "        predicts.append(modelpreds[-1])\n",
    "        \n",
    "    predicts, target = np.array(predicts), np.array(targets)\n",
    "    final_predicts += predicts\n",
    "final_predicts /= repeating\n"
   ]
  },
  {
   "cell_type": "code",
   "execution_count": 130,
   "id": "30e6af4f-86a3-4e87-8123-7ce0d8153b3d",
   "metadata": {},
   "outputs": [
    {
     "data": {
      "text/plain": [
       "([15.28224219752453,\n",
       "  16.608352466636138,\n",
       "  17.320396937826036,\n",
       "  17.22474627115457,\n",
       "  16.265122945410646],\n",
       " array([16.41887673, 16.26658327, 16.23041114, 16.14579464, 16.16615155]))"
      ]
     },
     "execution_count": 130,
     "metadata": {},
     "output_type": "execute_result"
    }
   ],
   "source": [
    "targets, final_predicts"
   ]
  },
  {
   "cell_type": "code",
   "execution_count": 102,
   "id": "a09ce614-a52c-490b-abde-f68d8b697029",
   "metadata": {},
   "outputs": [
    {
     "data": {
      "text/plain": [
       "[<matplotlib.lines.Line2D at 0x7f9b033d6a00>]"
      ]
     },
     "execution_count": 102,
     "metadata": {},
     "output_type": "execute_result"
    },
    {
     "data": {
      "image/png": "[encoded data removed]",
      "text/plain": [
       "<Figure size 640x480 with 1 Axes>"
      ]
     },
     "metadata": {},
     "output_type": "display_data"
    }
   ],
   "source": [
    "plt.plot(Label)"
   ]
  },
  {
   "cell_type": "markdown",
   "id": "d1c2dee2-c8ad-4537-83be-50e3276cabe5",
   "metadata": {
    "tags": []
   },
   "source": [
    "## 2期以上先まで予測する場合"
   ]
  },
  {
   "cell_type": "code",
   "execution_count": 166,
   "id": "e160865a-a75f-4b9b-b3c5-5e01f149fc72",
   "metadata": {},
   "outputs": [],
   "source": [
    "step = 2\n",
    "repeat = 10\n",
    "NEWINPUTS = []\n",
    "for i in range(step):\n",
    "    NEWINPUTS.append(data[step-i-1:train_time_points-i-1,:])"
   ]
  },
  {
   "cell_type": "code",
   "execution_count": 167,
   "id": "134f7bdb-cbd8-48a4-8377-c37d43575279",
   "metadata": {},
   "outputs": [],
   "source": [
    "NEWLABELS = Label[step:train_time_points].reshape(-1,1)\n",
    "NEWLABELS = torch.tensor(NEWLABELS, dtype=torch.float64).to(device)\n",
    "def alldropout(data, subspace):\n",
    "    result = [np.zeros_like(d) for d in data]\n",
    "    shuffled_indices=np.random.permutation(data[0].shape[1])\n",
    "    indices =shuffled_indices[:subspace]\n",
    "    for i in range(len(result)):\n",
    "        result[i][:, indices] = data[i][:, indices]\n",
    "    return result\n"
   ]
  },
  {
   "cell_type": "code",
   "execution_count": 169,
   "id": "87b3876e-6541-4d07-822d-6703f82e4d19",
   "metadata": {},
   "outputs": [
    {
     "ename": "NameError",
     "evalue": "name 'mini_train' is not defined",
     "output_type": "error",
     "traceback": [
      "\u001b[0;31m---------------------------------------------------------------------------\u001b[0m",
      "\u001b[0;31mNameError\u001b[0m                                 Traceback (most recent call last)",
      "Input \u001b[0;32mIn [169]\u001b[0m, in \u001b[0;36m<cell line: 13>\u001b[0;34m()\u001b[0m\n\u001b[1;32m     17\u001b[0m         MODELS[i]\u001b[38;5;241m.\u001b[39mload_state_dict(saved_parametes)\n\u001b[1;32m     18\u001b[0m         optimizers \u001b[38;5;241m=\u001b[39m [torch\u001b[38;5;241m.\u001b[39moptim\u001b[38;5;241m.\u001b[39mAdam(model\u001b[38;5;241m.\u001b[39mparameters(),lr\u001b[38;5;241m=\u001b[39mLR,weight_decay\u001b[38;5;241m=\u001b[39mw) \u001b[38;5;28;01mfor\u001b[39;00m model \u001b[38;5;129;01min\u001b[39;00m MODELS]\n\u001b[0;32m---> 19\u001b[0m     final_predicts \u001b[38;5;241m=\u001b[39m final_predicts \u001b[38;5;241m+\u001b[39m \u001b[43mmini_train\u001b[49m(cycle, EPOCH, D, alpha, MODELS, optimizers, loss_function)\n\u001b[1;32m     20\u001b[0m final_predicts \u001b[38;5;241m/\u001b[39m\u001b[38;5;241m=\u001b[39m repeat\n\u001b[1;32m     21\u001b[0m targets \u001b[38;5;241m=\u001b[39m Label[train_time_points:train_time_points\u001b[38;5;241m+\u001b[39mstep]\n",
      "\u001b[0;31mNameError\u001b[0m: name 'mini_train' is not defined"
     ]
    }
   ],
   "source": [
    "cycle = 3\n",
    "EPOCH = 5\n",
    "D = 0.5\n",
    "DROPOUT = 0.5\n",
    "alpha=1\n",
    "LR = 1e-3\n",
    "w = 0\n",
    "\n",
    "final_predicts = np.array([0.0] * step)\n",
    "\n",
    "loss_function = nn.MSELoss()\n",
    "\n",
    "for r in range(repeat):\n",
    "    MODELS = [NN(units).to(device).double() for i in range(step)]\n",
    "    for i in range(step):\n",
    "        saved_parametes = torch.load('./models/'+str(r)+'_'+str(i)+'.pt')\n",
    "        MODELS[i].load_state_dict(saved_parametes)\n",
    "        optimizers = [torch.optim.Adam(model.parameters(),lr=LR,weight_decay=w) for model in MODELS]\n",
    "    final_predicts = final_predicts + mini_train(cycle, EPOCH, D, alpha, MODELS, optimizers, loss_function)\n",
    "final_predicts /= repeat\n",
    "targets = Label[train_time_points:train_time_points+step]\n",
    "targets"
   ]
  },
  {
   "cell_type": "code",
   "execution_count": null,
   "id": "f0ec17ac-6a1d-44d9-892f-a7625ab5a241",
   "metadata": {},
   "outputs": [],
   "source": []
  }
 ],
 "metadata": {
  "kernelspec": {
   "display_name": "Python 3 (ipykernel)",
   "language": "python",
   "name": "python3"
  },
  "language_info": {
   "codemirror_mode": {
    "name": "ipython",
    "version": 3
   },
   "file_extension": ".py",
   "mimetype": "text/x-python",
   "name": "python",
   "nbconvert_exporter": "python",
   "pygments_lexer": "ipython3",
   "version": "3.9.15"
  }
 },
 "nbformat": 4,
 "nbformat_minor": 5
}
