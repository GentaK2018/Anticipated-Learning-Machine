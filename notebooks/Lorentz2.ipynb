{
 "cells": [
  {
   "cell_type": "code",
   "execution_count": 20,
   "id": "04bf4914-b0c6-4334-84f8-9357d8378cf5",
   "metadata": {},
   "outputs": [
    {
     "name": "stdout",
     "output_type": "stream",
     "text": [
      "Collecting optuna\n",
      "  Downloading optuna-3.0.5-py3-none-any.whl (348 kB)\n",
      "\u001b[2K     \u001b[38;2;114;156;31m━━━━━━━━━━━━━━━━━━━━━━━━━━━━━━━━━━━━━━━\u001b[0m \u001b[32m348.5/348.5 kB\u001b[0m \u001b[31m6.3 MB/s\u001b[0m eta \u001b[36m0:00:00\u001b[0m MB/s\u001b[0m eta \u001b[36m0:00:01\u001b[0m\n",
      "\u001b[?25hRequirement already satisfied: packaging>=20.0 in /home/karino/miniconda3/envs/pytorch/lib/python3.9/site-packages (from optuna) (21.3)\n",
      "Collecting sqlalchemy>=1.3.0\n",
      "  Downloading SQLAlchemy-1.4.46-cp39-cp39-manylinux_2_5_x86_64.manylinux1_x86_64.manylinux_2_17_x86_64.manylinux2014_x86_64.whl (1.6 MB)\n",
      "\u001b[2K     \u001b[38;2;114;156;31m━━━━━━━━━━━━━━━━━━━━━━━━━━━━━━━━━━━━━━━━\u001b[0m \u001b[32m1.6/1.6 MB\u001b[0m \u001b[31m34.3 MB/s\u001b[0m eta \u001b[36m0:00:00\u001b[0m MB/s\u001b[0m eta \u001b[36m0:00:01\u001b[0m\n",
      "\u001b[?25hCollecting scipy<1.9.0,>=1.7.0\n",
      "  Downloading scipy-1.8.1-cp39-cp39-manylinux_2_17_x86_64.manylinux2014_x86_64.whl (42.2 MB)\n",
      "\u001b[2K     \u001b[38;2;114;156;31m━━━━━━━━━━━━━━━━━━━━━━━━━━━━━━━━━━━━━━━━\u001b[0m \u001b[32m42.2/42.2 MB\u001b[0m \u001b[31m8.7 MB/s\u001b[0m eta \u001b[36m0:00:00\u001b[0mm eta \u001b[36m0:00:01\u001b[0m[36m0:00:01\u001b[0mm\n",
      "\u001b[?25hRequirement already satisfied: tqdm in /home/karino/miniconda3/envs/pytorch/lib/python3.9/site-packages (from optuna) (4.64.1)\n",
      "Requirement already satisfied: numpy in /home/karino/miniconda3/envs/pytorch/lib/python3.9/site-packages (from optuna) (1.23.2)\n",
      "Requirement already satisfied: PyYAML in /home/karino/miniconda3/envs/pytorch/lib/python3.9/site-packages (from optuna) (6.0)\n",
      "Collecting colorlog\n",
      "  Downloading colorlog-6.7.0-py2.py3-none-any.whl (11 kB)\n",
      "Collecting cliff\n",
      "  Downloading cliff-4.1.0-py3-none-any.whl (81 kB)\n",
      "\u001b[2K     \u001b[38;2;114;156;31m━━━━━━━━━━━━━━━━━━━━━━━━━━━━━━━━━━━━━━━━\u001b[0m \u001b[32m81.0/81.0 kB\u001b[0m \u001b[31m23.5 MB/s\u001b[0m eta \u001b[36m0:00:00\u001b[0m\n",
      "\u001b[?25hRequirement already satisfied: importlib-metadata<5.0.0 in /home/karino/miniconda3/envs/pytorch/lib/python3.9/site-packages (from optuna) (4.12.0)\n",
      "Collecting cmaes>=0.8.2\n",
      "  Downloading cmaes-0.9.1-py3-none-any.whl (21 kB)\n",
      "Collecting alembic>=1.5.0\n",
      "  Downloading alembic-1.9.1-py3-none-any.whl (210 kB)\n",
      "\u001b[2K     \u001b[38;2;114;156;31m━━━━━━━━━━━━━━━━━━━━━━━━━━━━━━━━━━━━━━━\u001b[0m \u001b[32m210.4/210.4 kB\u001b[0m \u001b[31m4.6 MB/s\u001b[0m eta \u001b[36m0:00:00\u001b[0m31m16.0 MB/s\u001b[0m eta \u001b[36m0:00:01\u001b[0m\n",
      "\u001b[?25hCollecting Mako\n",
      "  Downloading Mako-1.2.4-py3-none-any.whl (78 kB)\n",
      "\u001b[2K     \u001b[38;2;114;156;31m━━━━━━━━━━━━━━━━━━━━━━━━━━━━━━━━━━━━━━━━\u001b[0m \u001b[32m78.7/78.7 kB\u001b[0m \u001b[31m1.8 MB/s\u001b[0m eta \u001b[36m0:00:00\u001b[0m7 MB/s\u001b[0m eta \u001b[36m0:00:01\u001b[0m\n",
      "\u001b[?25hRequirement already satisfied: zipp>=0.5 in /home/karino/miniconda3/envs/pytorch/lib/python3.9/site-packages (from importlib-metadata<5.0.0->optuna) (3.8.1)\n",
      "Requirement already satisfied: pyparsing!=3.0.5,>=2.0.2 in /home/karino/miniconda3/envs/pytorch/lib/python3.9/site-packages (from packaging>=20.0->optuna) (3.0.9)\n",
      "Collecting greenlet!=0.4.17\n",
      "  Downloading greenlet-2.0.1-cp39-cp39-manylinux_2_17_x86_64.manylinux2014_x86_64.whl (535 kB)\n",
      "\u001b[2K     \u001b[38;2;114;156;31m━━━━━━━━━━━━━━━━━━━━━━━━━━━━━━━━━━━━━━\u001b[0m \u001b[32m535.9/535.9 kB\u001b[0m \u001b[31m12.8 MB/s\u001b[0m eta \u001b[36m0:00:00\u001b[0m31m13.6 MB/s\u001b[0m eta \u001b[36m0:00:01\u001b[0m\n",
      "\u001b[?25hCollecting PrettyTable>=0.7.2\n",
      "  Downloading prettytable-3.6.0-py3-none-any.whl (27 kB)\n",
      "Collecting autopage>=0.4.0\n",
      "  Using cached autopage-0.5.1-py3-none-any.whl (29 kB)\n",
      "Collecting cmd2>=1.0.0\n",
      "  Using cached cmd2-2.4.2-py3-none-any.whl (147 kB)\n",
      "Collecting stevedore>=2.0.1\n",
      "  Downloading stevedore-4.1.1-py3-none-any.whl (50 kB)\n",
      "\u001b[2K     \u001b[38;2;114;156;31m━━━━━━━━━━━━━━━━━━━━━━━━━━━━━━━━━━━━━━━━\u001b[0m \u001b[32m50.0/50.0 kB\u001b[0m \u001b[31m1.0 MB/s\u001b[0m eta \u001b[36m0:00:00\u001b[0m[31m74.3 MB/s\u001b[0m eta \u001b[36m0:00:01\u001b[0m\n",
      "\u001b[?25hRequirement already satisfied: wcwidth>=0.1.7 in /home/karino/miniconda3/envs/pytorch/lib/python3.9/site-packages (from cmd2>=1.0.0->cliff->optuna) (0.2.5)\n",
      "Requirement already satisfied: attrs>=16.3.0 in /home/karino/miniconda3/envs/pytorch/lib/python3.9/site-packages (from cmd2>=1.0.0->cliff->optuna) (22.1.0)\n",
      "Collecting pyperclip>=1.6\n",
      "  Using cached pyperclip-1.8.2-py3-none-any.whl\n",
      "Collecting pbr!=2.1.0,>=2.0.0\n",
      "  Downloading pbr-5.11.1-py2.py3-none-any.whl (112 kB)\n",
      "\u001b[2K     \u001b[38;2;114;156;31m━━━━━━━━━━━━━━━━━━━━━━━━━━━━━━━━━━━━━━━\u001b[0m \u001b[32m112.7/112.7 kB\u001b[0m \u001b[31m4.9 MB/s\u001b[0m eta \u001b[36m0:00:00\u001b[0m\n",
      "\u001b[?25hRequirement already satisfied: MarkupSafe>=0.9.2 in /home/karino/miniconda3/envs/pytorch/lib/python3.9/site-packages (from Mako->alembic>=1.5.0->optuna) (2.1.1)\n",
      "Installing collected packages: pyperclip, scipy, PrettyTable, pbr, Mako, greenlet, colorlog, cmd2, cmaes, autopage, stevedore, sqlalchemy, cliff, alembic, optuna\n",
      "  Attempting uninstall: scipy\n",
      "    Found existing installation: scipy 1.9.1\n",
      "    Uninstalling scipy-1.9.1:\n",
      "      Successfully uninstalled scipy-1.9.1\n",
      "Successfully installed Mako-1.2.4 PrettyTable-3.6.0 alembic-1.9.1 autopage-0.5.1 cliff-4.1.0 cmaes-0.9.1 cmd2-2.4.2 colorlog-6.7.0 greenlet-2.0.1 optuna-3.0.5 pbr-5.11.1 pyperclip-1.8.2 scipy-1.8.1 sqlalchemy-1.4.46 stevedore-4.1.1\n"
     ]
    }
   ],
   "source": [
    "! pip install optuna"
   ]
  },
  {
   "cell_type": "code",
   "execution_count": 21,
   "id": "630185ee-1e4c-41bd-b68c-59bb902e627f",
   "metadata": {},
   "outputs": [
    {
     "data": {
      "text/plain": [
       "device(type='cuda', index=1)"
      ]
     },
     "execution_count": 21,
     "metadata": {},
     "output_type": "execute_result"
    }
   ],
   "source": [
    "import torch\n",
    "import torch.nn as nn\n",
    "import torch.utils.data as Data\n",
    "import numpy as np\n",
    "import matplotlib.pyplot as plt\n",
    "import optuna\n",
    "# fix random number to ensore the reliability of our results\n",
    "device = torch.device('cuda:1' if torch.cuda.is_available() else 'cpu')\n",
    "SEED = 47\n",
    "torch.manual_seed(SEED)\n",
    "np.random.seed(SEED)\n",
    "torch.backends.cudnn.deterministic = True\n",
    "torch.backends.cudnn.benchmark = False\n",
    "torch.cuda.manual_seed(SEED)\n",
    "device"
   ]
  },
  {
   "cell_type": "code",
   "execution_count": 22,
   "id": "51bb19e8-eded-412c-a5e5-7eba78c0ac3e",
   "metadata": {},
   "outputs": [],
   "source": [
    "def newdropout(data, subspace):\n",
    "    \"\"\"データのうち一部をゼロに置き換えてしまう。これはスモールデータにおいて過学習を防ぐ方法として知られている。\n",
    "    Improving neural networks by preventing co-adaptation of feature detectors\n",
    "    https://arxiv.org/pdf/1207.0580.pdf\n",
    "    \"\"\"\n",
    "    result = np.zeros_like(data)\n",
    "    shuffled_indices=np.random.permutation(data.shape[1])\n",
    "    indices =shuffled_indices[:subspace]\n",
    "    result[:, indices] = data[:, indices]\n",
    "    return result\n",
    "\n",
    "# Framework of neural networks\n",
    "class NN(nn.Module):\n",
    "    def __init__(self, units, activate, dropout):\n",
    "        super(NN, self).__init__()\n",
    "        self.layers = self._make_layer(units, activate,dropout)\n",
    "\n",
    "    def forward(self, x):\n",
    "        predict = self.layers(x)\n",
    "        return predict\n",
    "\n",
    "    def _make_layer(self, units, activate,dropout):\n",
    "        layers = []\n",
    "        for i in range(len(units)-1):\n",
    "            layers += [nn.Linear(units[i], units[i+1]), nn.BatchNorm1d(units[i+1]), activate, nn.Dropout(p=dropout)]\n",
    "        layers += [nn.Linear(units[-1], 1)]\n",
    "        return nn.Sequential(*layers)\n",
    "    \n",
    "def evaluate(output1, output2, alpha, Label, loss_function):\n",
    "    loss1 = loss_function(output1, Label)  # model1の予測と実測の損失関数\n",
    "#     loss2 = (output1 - output2).pow(2).sum().item()/output1.shape[0]\n",
    "    loss2 = loss_function(output1, output2)  # model1の予測とmodel2の予測の損失関数\n",
    "    return loss1, loss2, loss1+alpha*loss2"
   ]
  },
  {
   "cell_type": "markdown",
   "id": "8d69fbb4-a2f0-42a3-8cda-26a08b0fccb2",
   "metadata": {},
   "source": [
    "## データの準備"
   ]
  },
  {
   "cell_type": "code",
   "execution_count": 23,
   "id": "59db39ca-9da6-40f2-a305-bb97fb08854f",
   "metadata": {},
   "outputs": [],
   "source": [
    "period = 0\n",
    "# length of training time points\n",
    "train_time_points = 30  # ここまでを学習データとする"
   ]
  },
  {
   "cell_type": "code",
   "execution_count": 24,
   "id": "0790afc2-b3ab-48b5-8cf3-578a41dd19b9",
   "metadata": {},
   "outputs": [
    {
     "data": {
      "text/plain": [
       "(55, 90)"
      ]
     },
     "execution_count": 24,
     "metadata": {},
     "output_type": "execute_result"
    }
   ],
   "source": [
    "root = \"../dataset/Lorentz/Training\"\n",
    "X = np.loadtxt(f'{root}/Lorentz.txt')\n",
    "X.shape  # 55サンプル、90次元"
   ]
  },
  {
   "cell_type": "code",
   "execution_count": 25,
   "id": "6f94075b-8e1e-4130-b91b-9ba8b4361301",
   "metadata": {},
   "outputs": [],
   "source": [
    "y = np.loadtxt(f'{root}/x.txt')"
   ]
  },
  {
   "cell_type": "code",
   "execution_count": 38,
   "id": "eba2cee5-3949-472f-aed7-0ce99a5dc547",
   "metadata": {},
   "outputs": [],
   "source": [
    "step = 10\n",
    "repeat = 5"
   ]
  },
  {
   "cell_type": "code",
   "execution_count": 39,
   "id": "83d647c5-e110-4c15-a5b2-b36818d177d1",
   "metadata": {},
   "outputs": [],
   "source": [
    "X_val = X[train_time_points - 2:train_time_points, ]\n",
    "X_val = torch.tensor(X_val).to(device)"
   ]
  },
  {
   "cell_type": "code",
   "execution_count": 40,
   "id": "9b50bfe1-3582-4334-9ada-1f30d2be103f",
   "metadata": {},
   "outputs": [],
   "source": [
    "y_tr = y[step:train_time_points].reshape(-1,1)\n",
    "y_tr = torch.tensor(y_tr, dtype=torch.float64).to(device)"
   ]
  },
  {
   "cell_type": "code",
   "execution_count": 41,
   "id": "095c8ab6-6b24-4e95-bea9-abaaf0ab4ae4",
   "metadata": {},
   "outputs": [
    {
     "data": {
      "text/plain": [
       "torch.Size([20, 1])"
      ]
     },
     "execution_count": 41,
     "metadata": {},
     "output_type": "execute_result"
    }
   ],
   "source": [
    "y_tr.shape"
   ]
  },
  {
   "cell_type": "code",
   "execution_count": 42,
   "id": "6ce41e00-e4fd-41a7-9d64-68bcfc79dbe8",
   "metadata": {},
   "outputs": [],
   "source": [
    "X_tr_list = []\n",
    "for i in range(step):\n",
    "    # print(step-i-1, train_time_points-i-1)\n",
    "    X_tr_list.append(X[step-i-1:train_time_points-i-1,:])"
   ]
  },
  {
   "cell_type": "code",
   "execution_count": 43,
   "id": "e96d9232-c816-4ee9-8919-649e8460c0ee",
   "metadata": {},
   "outputs": [],
   "source": [
    "final_predicts = np.array([0.0] * step)  # 最終的な予測値の格納先"
   ]
  },
  {
   "cell_type": "markdown",
   "id": "8abc7d21-816f-4f9a-8949-3b2c0db6560b",
   "metadata": {},
   "source": [
    "## モデルの準備"
   ]
  },
  {
   "cell_type": "code",
   "execution_count": 33,
   "id": "a2a9bfde-b6e5-4a4d-b4b4-1cfc8791ec29",
   "metadata": {},
   "outputs": [],
   "source": [
    "cycle = 3\n",
    "LR = 0.005\n",
    "D = 0.9\n",
    "dropout = 0.0\n",
    "n_epochs = 300\n",
    "alpha = 0\n",
    "w = 0.0001\n",
    "activate = nn.LeakyReLU(0.7)"
   ]
  },
  {
   "cell_type": "code",
   "execution_count": 36,
   "id": "c03b5c82-76a1-43c0-a64c-36dbc943a9e6",
   "metadata": {},
   "outputs": [
    {
     "data": {
      "text/plain": [
       "5"
      ]
     },
     "execution_count": 36,
     "metadata": {},
     "output_type": "execute_result"
    }
   ],
   "source": [
    "repeat"
   ]
  },
  {
   "cell_type": "code",
   "execution_count": null,
   "id": "acaa8959-f4b3-4b99-b9d2-454a615cabed",
   "metadata": {},
   "outputs": [],
   "source": [
    "input_size = X.shape[1]\n",
    "units = [input_size]+[500, 200, 150, 50]\n",
    "loss_function = nn.MSELoss()\n",
    "\n",
    "# 以下をrepeatの数だけ繰り返す。\n",
    "\n",
    "# 予測対象期間だけモデルを用意する\n",
    "\n",
    "models = [NN(units, activate, dropout).to(device).double() for i in range(step)]\n",
    "optimizers = [torch.optim.Adam(model.parameters(),lr=LR,weight_decay=w) for model in models]\n",
    "# for r in range(repeat):\n",
    "    \n",
    "for j in range(cycle):\n",
    "    for modelindex in range(1, step): # 予測対象期間について順々に学習\n",
    "        print(j, modelindex)\n",
    "        models[modelindex].train()\n",
    "        for epoch in range(n_epochs):\n",
    "            X_tr1 = torch.tensor(newdropout(X_tr_list[modelindex], int(input_size*D)), dtype=torch.float64).to(device)\n",
    "            output1 = models[modelindex](X_tr1)\n",
    "            loss1 = loss_function(output1, y_tr)\n",
    "\n",
    "            models[0].eval()\n",
    "            X_tr0 = torch.tensor(newdropout(X_tr_list[0], int(input_size*D)), dtype=torch.float64).to(device)\n",
    "            output2 = models[0](X_tr0)\n",
    "            for premodelindex in range(1,modelindex):\n",
    "                models[premodelindex].eval()\n",
    "                X_trp = torch.tensor(newdropout(X_tr_list[premodelindex], int(input_size*D)), dtype=torch.float64).to(device)\n",
    "                output2 += models[premodelindex](X_trp)\n",
    "            output2 /= modelindex\n",
    "            loss2 = loss_function(output1, output2)\n",
    "            loss = loss1 + alpha*loss2\n",
    "            # print(loss)\n",
    "            optimizers[modelindex].zero_grad()\n",
    "            loss.backward()\n",
    "            optimizers[modelindex].step()\n",
    "        models[modelindex].eval()\n",
    "\n",
    "    models[0].train()\n",
    "    for epoch in range(n_epochs):\n",
    "        X_tr0 = torch.tensor(newdropout(X_tr_list[0], int(input_size*D)), dtype=torch.float64).to(device)\n",
    "        output1 = models[0](X_tr0)\n",
    "        loss1 = loss_function(output1, y_tr)\n",
    "\n",
    "        models[1].eval()\n",
    "        X_tr1 = torch.tensor(newdropout(X_tr_list[1], int(input_size*D)), dtype=torch.float64).to(device)\n",
    "        output2 = models[1](X_tr1)\n",
    "        for aftermodelindex in range(2,step):\n",
    "            models[aftermodelindex].eval()\n",
    "            X_tra = torch.tensor(newdropout(X_tr_list[aftermodelindex], int(input_size*D)), dtype=torch.float64).to(device)\n",
    "            output2 += models[aftermodelindex](X_tra)\n",
    "        output2 /= (step-1)\n",
    "        loss2 = loss_function(output1, output2)\n",
    "        loss = loss1 + alpha*loss2\n",
    "        optimizers[0].zero_grad()\n",
    "        loss.backward()\n",
    "        optimizers[0].step()\n",
    "    models[0].eval()\n",
    "\n",
    "preds = np.array([model(X_val[1:2,:])[0].item() for model in models])\n",
    "mae = np.abs(preds - y[train_time_points:train_time_points+step]).mean()\n",
    "print(mae)\n",
    "# final_predicts += preds\n",
    "# final_predicts /= repeat"
   ]
  },
  {
   "cell_type": "code",
   "execution_count": 46,
   "id": "cdc0ee97-9e11-4c42-b008-11aa0f94d2f0",
   "metadata": {},
   "outputs": [
    {
     "name": "stderr",
     "output_type": "stream",
     "text": [
      "\u001b[32m[I 2023-01-12 17:17:35,206]\u001b[0m A new study created in memory with name: no-name-8134e428-0572-48eb-8a95-12493ead61c6\u001b[0m\n",
      "\u001b[32m[I 2023-01-12 17:18:37,630]\u001b[0m Trial 0 finished with value: 3.9402104182074154 and parameters: {'LR': 0.003178661245522186, 'D': 0.9383552503145989, 'dropout': 0.23813601810840523, 'n_epochs': 119, 'alpha': 0.04057171127652559, 'w': 9.088981370193641e-05, 'pReLU': 0.9552298146761046}. Best is trial 0 with value: 3.9402104182074154.\u001b[0m\n",
      "\u001b[32m[I 2023-01-12 17:19:32,490]\u001b[0m Trial 1 finished with value: 3.7984887853039297 and parameters: {'LR': 0.004169972182724422, 'D': 0.8741459848254338, 'dropout': 0.8374082998489129, 'n_epochs': 105, 'alpha': 0.914303496463381, 'w': 6.896866678815459e-05, 'pReLU': 0.4678599581959428}. Best is trial 1 with value: 3.7984887853039297.\u001b[0m\n",
      "\u001b[32m[I 2023-01-12 17:21:09,803]\u001b[0m Trial 2 finished with value: 3.264159642527281 and parameters: {'LR': 0.0015507448906271226, 'D': 0.8766790635564834, 'dropout': 0.5550648053083562, 'n_epochs': 184, 'alpha': 0.9770419386522163, 'w': 1.9378504475102778e-05, 'pReLU': 0.41088306435650984}. Best is trial 2 with value: 3.264159642527281.\u001b[0m\n",
      "\u001b[32m[I 2023-01-12 17:22:27,499]\u001b[0m Trial 3 finished with value: 2.849199718927737 and parameters: {'LR': 0.00452299730532385, 'D': 0.8100698559074992, 'dropout': 0.846173971331339, 'n_epochs': 153, 'alpha': 0.8673409802882307, 'w': 3.0148431219128927e-05, 'pReLU': 0.842494935379462}. Best is trial 3 with value: 2.849199718927737.\u001b[0m\n",
      "\u001b[32m[I 2023-01-12 17:24:13,079]\u001b[0m Trial 4 finished with value: 4.266289294966127 and parameters: {'LR': 0.0037091107784159153, 'D': 0.8088361245049377, 'dropout': 0.003824521461642599, 'n_epochs': 214, 'alpha': 0.9871893795451738, 'w': 2.6999792947146163e-06, 'pReLU': 0.9383880817074365}. Best is trial 3 with value: 2.849199718927737.\u001b[0m\n",
      "\u001b[32m[I 2023-01-12 17:26:20,814]\u001b[0m Trial 5 finished with value: 2.559250541622555 and parameters: {'LR': 0.001601055359356055, 'D': 0.9480126893953668, 'dropout': 0.6697302838434164, 'n_epochs': 254, 'alpha': 0.34383131649138554, 'w': 2.513645317299562e-05, 'pReLU': 0.8443622777507053}. Best is trial 5 with value: 2.559250541622555.\u001b[0m\n",
      "\u001b[32m[I 2023-01-12 17:27:29,896]\u001b[0m Trial 6 finished with value: 3.168004924508948 and parameters: {'LR': 0.001226310720621375, 'D': 0.9714446185613279, 'dropout': 0.34142210743929413, 'n_epochs': 138, 'alpha': 0.802944069118588, 'w': 2.1065563350404516e-05, 'pReLU': 0.2723465428038526}. Best is trial 5 with value: 2.559250541622555.\u001b[0m\n",
      "\u001b[32m[I 2023-01-12 17:29:44,710]\u001b[0m Trial 7 finished with value: 4.801631141760131 and parameters: {'LR': 0.00435571538614366, 'D': 0.8041849806680197, 'dropout': 0.5688192079710821, 'n_epochs': 267, 'alpha': 0.3618665705079358, 'w': 7.907793504718409e-06, 'pReLU': 0.9501715235863922}. Best is trial 5 with value: 2.559250541622555.\u001b[0m\n",
      "\u001b[32m[I 2023-01-12 17:31:50,199]\u001b[0m Trial 8 finished with value: 6.147173143038868 and parameters: {'LR': 0.0016852126799817829, 'D': 0.8198121893718708, 'dropout': 0.3772464021792531, 'n_epochs': 241, 'alpha': 0.09290899584496382, 'w': 1.02012149236278e-05, 'pReLU': 0.14481965040089226}. Best is trial 5 with value: 2.559250541622555.\u001b[0m\n",
      "\u001b[32m[I 2023-01-12 17:34:19,417]\u001b[0m Trial 9 finished with value: 4.231586382442337 and parameters: {'LR': 0.0014446158329419205, 'D': 0.8564649336710843, 'dropout': 0.33195216628924323, 'n_epochs': 292, 'alpha': 0.6558371673883427, 'w': 6.974543405311159e-05, 'pReLU': 0.42873770404910977}. Best is trial 5 with value: 2.559250541622555.\u001b[0m\n",
      "\u001b[32m[I 2023-01-12 17:36:13,787]\u001b[0m Trial 10 finished with value: 3.034400898669962 and parameters: {'LR': 0.0024763652196998663, 'D': 0.9920704803786327, 'dropout': 0.7002950636077916, 'n_epochs': 227, 'alpha': 0.36299882089894586, 'w': 4.2100834492145856e-05, 'pReLU': 0.7505091359591012}. Best is trial 5 with value: 2.559250541622555.\u001b[0m\n",
      "\u001b[32m[I 2023-01-12 17:37:35,876]\u001b[0m Trial 11 finished with value: 5.54981840333385 and parameters: {'LR': 0.004992926286795553, 'D': 0.9308630854428394, 'dropout': 0.9248989281668933, 'n_epochs': 164, 'alpha': 0.45578665642096255, 'w': 3.673036250127577e-05, 'pReLU': 0.6834697159128075}. Best is trial 5 with value: 2.559250541622555.\u001b[0m\n",
      "\u001b[32m[I 2023-01-12 17:38:58,853]\u001b[0m Trial 12 finished with value: 3.3987716372885615 and parameters: {'LR': 0.002478509501516682, 'D': 0.9267758511050377, 'dropout': 0.7209874338752429, 'n_epochs': 162, 'alpha': 0.6037399771427745, 'w': 3.267392465666881e-05, 'pReLU': 0.7560742666459139}. Best is trial 5 with value: 2.559250541622555.\u001b[0m\n",
      "\u001b[32m[I 2023-01-12 17:41:18,711]\u001b[0m Trial 13 finished with value: 3.0424804510622794 and parameters: {'LR': 0.000541436495573683, 'D': 0.9027309213250077, 'dropout': 0.7566769071962747, 'n_epochs': 264, 'alpha': 0.220392094690774, 'w': 4.9916682357693327e-05, 'pReLU': 0.6289644104037468}. Best is trial 5 with value: 2.559250541622555.\u001b[0m\n",
      "\u001b[32m[I 2023-01-12 17:42:56,493]\u001b[0m Trial 14 finished with value: 8.375631318456303 and parameters: {'LR': 0.00307092989409998, 'D': 0.9615628265317473, 'dropout': 0.9432730878853803, 'n_epochs': 190, 'alpha': 0.7394359641768754, 'w': 2.5571184470157885e-05, 'pReLU': 0.8192604214185063}. Best is trial 5 with value: 2.559250541622555.\u001b[0m\n",
      "\u001b[32m[I 2023-01-12 17:45:27,325]\u001b[0m Trial 15 finished with value: 3.7867942571387987 and parameters: {'LR': 0.0020817030105891665, 'D': 0.8440764258896015, 'dropout': 0.5793250440282376, 'n_epochs': 296, 'alpha': 0.524364947313388, 'w': 5.5989288118115516e-05, 'pReLU': 0.5878856862983314}. Best is trial 5 with value: 2.559250541622555.\u001b[0m\n",
      "\u001b[32m[I 2023-01-12 17:46:41,487]\u001b[0m Trial 16 finished with value: 3.547351508834147 and parameters: {'LR': 0.0007658365195461187, 'D': 0.9027787949474786, 'dropout': 0.8154495218529513, 'n_epochs': 142, 'alpha': 0.24727203502927142, 'w': 5.883840772136113e-05, 'pReLU': 0.836528701805718}. Best is trial 5 with value: 2.559250541622555.\u001b[0m\n",
      "\u001b[32m[I 2023-01-12 17:48:52,294]\u001b[0m Trial 17 finished with value: 3.387815512010822 and parameters: {'LR': 0.00499058858394647, 'D': 0.957645201745482, 'dropout': 0.6491283719879045, 'n_epochs': 246, 'alpha': 0.8429596580799157, 'w': 9.895480470518728e-05, 'pReLU': 0.5797516311846257}. Best is trial 5 with value: 2.559250541622555.\u001b[0m\n",
      "\u001b[32m[I 2023-01-12 17:50:38,768]\u001b[0m Trial 18 finished with value: 4.21455026481396 and parameters: {'LR': 0.0035339672730539686, 'D': 0.9961461860006303, 'dropout': 0.4706314160719268, 'n_epochs': 206, 'alpha': 0.20585014540936475, 'w': 4.288291864519229e-05, 'pReLU': 0.0156340007778229}. Best is trial 5 with value: 2.559250541622555.\u001b[0m\n",
      "\u001b[32m[I 2023-01-12 17:52:05,209]\u001b[0m Trial 19 finished with value: 3.234141761594041 and parameters: {'LR': 0.0022808228671775043, 'D': 0.8335922649019739, 'dropout': 0.8596045569327913, 'n_epochs': 167, 'alpha': 0.4419511156848945, 'w': 2.5022966412462397e-05, 'pReLU': 0.8510150735162068}. Best is trial 5 with value: 2.559250541622555.\u001b[0m\n",
      "\u001b[32m[I 2023-01-12 17:54:19,955]\u001b[0m Trial 20 finished with value: 3.3774833187005755 and parameters: {'LR': 0.0043674196673002645, 'D': 0.8813334751375733, 'dropout': 0.6444836077923494, 'n_epochs': 275, 'alpha': 0.6387197862797814, 'w': 1.4492397746724985e-05, 'pReLU': 0.32705207421347104}. Best is trial 5 with value: 2.559250541622555.\u001b[0m\n",
      "\u001b[32m[I 2023-01-12 17:56:18,743]\u001b[0m Trial 21 finished with value: 3.212450413551243 and parameters: {'LR': 0.0027497836036629144, 'D': 0.9965480812746021, 'dropout': 0.7385663007481366, 'n_epochs': 227, 'alpha': 0.3422369274510637, 'w': 3.481909402182786e-05, 'pReLU': 0.7086038042993242}. Best is trial 5 with value: 2.559250541622555.\u001b[0m\n",
      "\u001b[32m[I 2023-01-12 17:58:18,829]\u001b[0m Trial 22 finished with value: 3.423117233752811 and parameters: {'LR': 0.0019240682333808066, 'D': 0.9816504466995583, 'dropout': 0.6663466042813063, 'n_epochs': 236, 'alpha': 0.31341693617662103, 'w': 4.92971280902716e-05, 'pReLU': 0.7578354159739735}. Best is trial 5 with value: 2.559250541622555.\u001b[0m\n",
      "\u001b[32m[I 2023-01-12 18:00:26,329]\u001b[0m Trial 23 finished with value: 2.977633172209505 and parameters: {'LR': 0.0010407338103978134, 'D': 0.9419010758111354, 'dropout': 0.79333586706989, 'n_epochs': 251, 'alpha': 0.5403516084882181, 'w': 4.0501794117448046e-05, 'pReLU': 0.8630441960716887}. Best is trial 5 with value: 2.559250541622555.\u001b[0m\n",
      "\u001b[32m[I 2023-01-12 18:02:34,015]\u001b[0m Trial 24 finished with value: 2.980015760891581 and parameters: {'LR': 0.001012370648233738, 'D': 0.9137740796023126, 'dropout': 0.8138221684278096, 'n_epochs': 252, 'alpha': 0.7365234000925853, 'w': 3.011810778904954e-05, 'pReLU': 0.8934930019829598}. Best is trial 5 with value: 2.559250541622555.\u001b[0m\n",
      "\u001b[32m[I 2023-01-12 18:04:50,383]\u001b[0m Trial 25 finished with value: 3.4920300599149052 and parameters: {'LR': 0.001043132669802332, 'D': 0.9499372880454702, 'dropout': 0.8605668152403824, 'n_epochs': 281, 'alpha': 0.5565187442917392, 'w': 4.2860189312113227e-05, 'pReLU': 0.8304385139444528}. Best is trial 5 with value: 2.559250541622555.\u001b[0m\n",
      "\u001b[32m[I 2023-01-12 18:06:44,228]\u001b[0m Trial 26 finished with value: 3.298794502461592 and parameters: {'LR': 0.0018623669991237072, 'D': 0.94483670157483, 'dropout': 0.49017278821773264, 'n_epochs': 216, 'alpha': 0.15068281205569356, 'w': 1.7606297774026926e-05, 'pReLU': 0.5585515705288082}. Best is trial 5 with value: 2.559250541622555.\u001b[0m\n",
      "\u001b[32m[I 2023-01-12 18:08:49,770]\u001b[0m Trial 27 finished with value: 2.8373873426140586 and parameters: {'LR': 0.0013720512973096424, 'D': 0.9202316671240962, 'dropout': 0.7857423300687364, 'n_epochs': 256, 'alpha': 0.45808670600131934, 'w': 6.365593268213198e-05, 'pReLU': 0.9842856043586069}. Best is trial 5 with value: 2.559250541622555.\u001b[0m\n",
      "\u001b[32m[I 2023-01-12 18:10:26,436]\u001b[0m Trial 28 finished with value: 5.35579964425184 and parameters: {'LR': 0.0013550199339246063, 'D': 0.8872753775808947, 'dropout': 0.9112036793054671, 'n_epochs': 191, 'alpha': 0.4473334924046734, 'w': 8.09043157320267e-05, 'pReLU': 0.9839257513736842}. Best is trial 5 with value: 2.559250541622555.\u001b[0m\n",
      "\u001b[32m[I 2023-01-12 18:11:34,346]\u001b[0m Trial 29 finished with value: 3.5477749540367993 and parameters: {'LR': 0.003013109870594068, 'D': 0.9184389437018632, 'dropout': 0.11528992257710208, 'n_epochs': 129, 'alpha': 0.2860368987142696, 'w': 6.684476856458989e-05, 'pReLU': 0.9211949715491443}. Best is trial 5 with value: 2.559250541622555.\u001b[0m\n",
      "\u001b[32m[I 2023-01-12 18:12:52,947]\u001b[0m Trial 30 finished with value: 2.9477068292003747 and parameters: {'LR': 0.0005266954815359175, 'D': 0.8665626672782788, 'dropout': 0.6102884644309772, 'n_epochs': 153, 'alpha': 0.4073663566969655, 'w': 7.775266711164853e-05, 'pReLU': 0.9831565373678436}. Best is trial 5 with value: 2.559250541622555.\u001b[0m\n",
      "\u001b[32m[I 2023-01-12 18:14:19,232]\u001b[0m Trial 31 finished with value: 2.9413452157326163 and parameters: {'LR': 0.0005000808946061452, 'D': 0.8550359299094605, 'dropout': 0.6016347558189306, 'n_epochs': 174, 'alpha': 0.40606995664247414, 'w': 8.60038253156779e-05, 'pReLU': 0.9848617588160209}. Best is trial 5 with value: 2.559250541622555.\u001b[0m\n",
      "\u001b[32m[I 2023-01-12 18:15:08,421]\u001b[0m Trial 32 finished with value: 2.280438881294092 and parameters: {'LR': 0.0008145873688318743, 'D': 0.8305221641325987, 'dropout': 0.5013365602539481, 'n_epochs': 104, 'alpha': 0.4040256154664169, 'w': 8.821469027218412e-05, 'pReLU': 0.9004222882108068}. Best is trial 32 with value: 2.280438881294092.\u001b[0m\n",
      "\u001b[32m[I 2023-01-12 18:15:59,350]\u001b[0m Trial 33 finished with value: 3.5825343766999547 and parameters: {'LR': 0.001684609132024071, 'D': 0.8274675374092215, 'dropout': 0.49724146777069483, 'n_epochs': 100, 'alpha': 0.1275814643004975, 'w': 8.974837659855075e-05, 'pReLU': 0.7885121178878597}. Best is trial 32 with value: 2.280438881294092.\u001b[0m\n",
      "\u001b[32m[I 2023-01-12 18:16:58,799]\u001b[0m Trial 34 finished with value: 3.1000781222671003 and parameters: {'LR': 0.0038804060325904836, 'D': 0.8189100154343308, 'dropout': 0.7619608972885713, 'n_epochs': 116, 'alpha': 0.04145868139259662, 'w': 6.306258867847611e-05, 'pReLU': 0.8906990185470114}. Best is trial 32 with value: 2.280438881294092.\u001b[0m\n",
      "\u001b[32m[I 2023-01-12 18:18:04,727]\u001b[0m Trial 35 finished with value: 2.942347506663661 and parameters: {'LR': 0.0033736183076847007, 'D': 0.8888970750984584, 'dropout': 0.41361146695693135, 'n_epochs': 124, 'alpha': 0.864239239562999, 'w': 7.466072979247877e-05, 'pReLU': 0.654733161073767}. Best is trial 32 with value: 2.280438881294092.\u001b[0m\n",
      "\u001b[32m[I 2023-01-12 18:19:00,950]\u001b[0m Trial 36 finished with value: 3.0613674050542516 and parameters: {'LR': 0.0009046927066161811, 'D': 0.8123849121689808, 'dropout': 0.24919822449056833, 'n_epochs': 111, 'alpha': 0.501323753540969, 'w': 2.8936702695747417e-05, 'pReLU': 0.9113329346355943}. Best is trial 32 with value: 2.280438881294092.\u001b[0m\n",
      "\u001b[32m[I 2023-01-12 18:20:17,652]\u001b[0m Trial 37 finished with value: 2.4626564650637324 and parameters: {'LR': 0.0014076441305876394, 'D': 0.8382672844098543, 'dropout': 0.526043566030269, 'n_epochs': 152, 'alpha': 0.5995885431552183, 'w': 9.995833359959048e-05, 'pReLU': 0.5133739543747032}. Best is trial 32 with value: 2.280438881294092.\u001b[0m\n",
      "\u001b[32m[I 2023-01-12 18:21:51,392]\u001b[0m Trial 38 finished with value: 3.7360177286620386 and parameters: {'LR': 0.0012286987535365702, 'D': 0.8491404175266194, 'dropout': 0.44305790133004075, 'n_epochs': 179, 'alpha': 0.5929060101798904, 'w': 9.919797643924168e-05, 'pReLU': 0.32497545241460873}. Best is trial 32 with value: 2.280438881294092.\u001b[0m\n",
      "\u001b[32m[I 2023-01-12 18:23:00,923]\u001b[0m Trial 39 finished with value: 2.4701387829375614 and parameters: {'LR': 0.001584154165391983, 'D': 0.8358296308922514, 'dropout': 0.5280241229803196, 'n_epochs': 139, 'alpha': 0.6867023777790385, 'w': 9.440023768949912e-05, 'pReLU': 0.4953733238463066}. Best is trial 32 with value: 2.280438881294092.\u001b[0m\n",
      "\u001b[32m[I 2023-01-12 18:24:05,244]\u001b[0m Trial 40 finished with value: 2.8996179711311183 and parameters: {'LR': 0.0016836307576191401, 'D': 0.8363719073571414, 'dropout': 0.512309197679686, 'n_epochs': 126, 'alpha': 0.6895542006658784, 'w': 9.62319273035526e-05, 'pReLU': 0.41702766081836085}. Best is trial 32 with value: 2.280438881294092.\u001b[0m\n",
      "\u001b[32m[I 2023-01-12 18:25:20,060]\u001b[0m Trial 41 finished with value: 3.663218536475104 and parameters: {'LR': 0.0014563168465146778, 'D': 0.8660141616642207, 'dropout': 0.5316596105414629, 'n_epochs': 142, 'alpha': 0.7351291308929487, 'w': 9.269695146831433e-05, 'pReLU': 0.4998692269091165}. Best is trial 32 with value: 2.280438881294092.\u001b[0m\n",
      "\u001b[32m[I 2023-01-12 18:26:36,937]\u001b[0m Trial 42 finished with value: 3.4774001908383516 and parameters: {'LR': 0.0013017340360824941, 'D': 0.8236317504639951, 'dropout': 0.3975877781194726, 'n_epochs': 154, 'alpha': 0.4788027271240219, 'w': 8.374230857644761e-05, 'pReLU': 0.45311364032722434}. Best is trial 32 with value: 2.280438881294092.\u001b[0m\n",
      "\u001b[32m[I 2023-01-12 18:27:42,970]\u001b[0m Trial 43 finished with value: 3.840556918328528 and parameters: {'LR': 0.0020769091523418458, 'D': 0.8383540496090248, 'dropout': 0.5490440605471626, 'n_epochs': 133, 'alpha': 0.5885918420445193, 'w': 9.082853425087579e-05, 'pReLU': 0.21610129918552318}. Best is trial 32 with value: 2.280438881294092.\u001b[0m\n",
      "\u001b[32m[I 2023-01-12 18:28:37,378]\u001b[0m Trial 44 finished with value: 3.581585185349931 and parameters: {'LR': 0.001571965163666421, 'D': 0.9256617768536056, 'dropout': 0.3026124190098436, 'n_epochs': 107, 'alpha': 0.3963622246531953, 'w': 7.305573167057233e-05, 'pReLU': 0.36511052352951495}. Best is trial 32 with value: 2.280438881294092.\u001b[0m\n",
      "\u001b[32m[I 2023-01-12 18:29:37,283]\u001b[0m Trial 45 finished with value: 3.1867990572173412 and parameters: {'LR': 0.000755581317367098, 'D': 0.8073536362496307, 'dropout': 0.6833486234184518, 'n_epochs': 117, 'alpha': 0.9409034951449807, 'w': 4.938864274980169e-07, 'pReLU': 0.5142196902590797}. Best is trial 32 with value: 2.280438881294092.\u001b[0m\n",
      "\u001b[32m[I 2023-01-12 18:31:55,106]\u001b[0m Trial 46 finished with value: 3.1827989039314555 and parameters: {'LR': 0.0012046307996359325, 'D': 0.9332658371936979, 'dropout': 0.6111203327598672, 'n_epochs': 265, 'alpha': 0.7931228264111375, 'w': 8.587899193469449e-05, 'pReLU': 0.715721059851967}. Best is trial 32 with value: 2.280438881294092.\u001b[0m\n",
      "\u001b[32m[I 2023-01-12 18:34:20,159]\u001b[0m Trial 47 finished with value: 3.753624347277912 and parameters: {'LR': 0.0018971393445623317, 'D': 0.8617180872239872, 'dropout': 0.4491024058275659, 'n_epochs': 287, 'alpha': 0.6898890196346914, 'w': 9.369394317388025e-05, 'pReLU': 0.9515036761152169}. Best is trial 32 with value: 2.280438881294092.\u001b[0m\n",
      "\u001b[32m[I 2023-01-12 18:35:30,147]\u001b[0m Trial 48 finished with value: 2.654714236595936 and parameters: {'LR': 0.0007593528103500655, 'D': 0.8952052786624387, 'dropout': 0.566313745113278, 'n_epochs': 144, 'alpha': 0.28040137067455295, 'w': 7.954694500415232e-05, 'pReLU': 0.5268701759341367}. Best is trial 32 with value: 2.280438881294092.\u001b[0m\n",
      "\u001b[32m[I 2023-01-12 18:36:51,722]\u001b[0m Trial 49 finished with value: 3.1534954942522613 and parameters: {'LR': 0.000758677720988046, 'D': 0.8026165227124126, 'dropout': 0.5584343512317143, 'n_epochs': 159, 'alpha': 0.28028038998661925, 'w': 8.890388536390525e-05, 'pReLU': 0.5456842026601583}. Best is trial 32 with value: 2.280438881294092.\u001b[0m\n"
     ]
    }
   ],
   "source": [
    "# 以下をrepeatの数だけ繰り返す。\n",
    "\n",
    "# 予測対象期間だけモデルを用意する\n",
    "def objective(trial):\n",
    "    cycle = 3\n",
    "    LR = trial.suggest_float(\"LR\", 0.0005, 0.005)\n",
    "    D = trial.suggest_float(\"D\", 0.8, 1.0)\n",
    "    dropout = trial.suggest_float(\"dropout\", 0.0, 0.95)\n",
    "    n_epochs = trial.suggest_int(\"n_epochs\", 100, 300)\n",
    "    alpha = trial.suggest_float(\"alpha\", 0, 1)\n",
    "    w = trial.suggest_float(\"w\", 0, 0.0001)\n",
    "    pReLU = trial.suggest_float(\"pReLU\", 0.01, 0.99)\n",
    "    activate = nn.LeakyReLU(pReLU)\n",
    "    \n",
    "    input_size = X.shape[1]\n",
    "    units = [input_size]+[500, 200, 150, 50]\n",
    "    loss_function = nn.MSELoss()\n",
    "    \n",
    "    models = [NN(units, activate, dropout).to(device).double() for i in range(step)]\n",
    "    optimizers = [torch.optim.Adam(model.parameters(),lr=LR,weight_decay=w) for model in models]\n",
    "    # for r in range(repeat):\n",
    "\n",
    "    for j in range(cycle):\n",
    "        for modelindex in range(1, step): # 予測対象期間について順々に学習\n",
    "            # print(j, modelindex)\n",
    "            models[modelindex].train()\n",
    "            for epoch in range(n_epochs):\n",
    "                X_tr1 = torch.tensor(newdropout(X_tr_list[modelindex], int(input_size*D)), dtype=torch.float64).to(device)\n",
    "                output1 = models[modelindex](X_tr1)\n",
    "                loss1 = loss_function(output1, y_tr)\n",
    "\n",
    "                models[0].eval()\n",
    "                X_tr0 = torch.tensor(newdropout(X_tr_list[0], int(input_size*D)), dtype=torch.float64).to(device)\n",
    "                output2 = models[0](X_tr0)\n",
    "                for premodelindex in range(1,modelindex):\n",
    "                    models[premodelindex].eval()\n",
    "                    X_trp = torch.tensor(newdropout(X_tr_list[premodelindex], int(input_size*D)), dtype=torch.float64).to(device)\n",
    "                    output2 += models[premodelindex](X_trp)\n",
    "                output2 /= modelindex\n",
    "                loss2 = loss_function(output1, output2)\n",
    "                loss = loss1 + alpha*loss2\n",
    "                # print(loss)\n",
    "                optimizers[modelindex].zero_grad()\n",
    "                loss.backward()\n",
    "                optimizers[modelindex].step()\n",
    "            models[modelindex].eval()\n",
    "\n",
    "        models[0].train()\n",
    "        for epoch in range(n_epochs):\n",
    "            X_tr0 = torch.tensor(newdropout(X_tr_list[0], int(input_size*D)), dtype=torch.float64).to(device)\n",
    "            output1 = models[0](X_tr0)\n",
    "            loss1 = loss_function(output1, y_tr)\n",
    "\n",
    "            models[1].eval()\n",
    "            X_tr1 = torch.tensor(newdropout(X_tr_list[1], int(input_size*D)), dtype=torch.float64).to(device)\n",
    "            output2 = models[1](X_tr1)\n",
    "            for aftermodelindex in range(2,step):\n",
    "                models[aftermodelindex].eval()\n",
    "                X_tra = torch.tensor(newdropout(X_tr_list[aftermodelindex], int(input_size*D)), dtype=torch.float64).to(device)\n",
    "                output2 += models[aftermodelindex](X_tra)\n",
    "            output2 /= (step-1)\n",
    "            loss2 = loss_function(output1, output2)\n",
    "            loss = loss1 + alpha*loss2\n",
    "            optimizers[0].zero_grad()\n",
    "            loss.backward()\n",
    "            optimizers[0].step()\n",
    "        models[0].eval()\n",
    "\n",
    "    preds = np.array([model(X_val[1:2,:])[0].item() for model in models])\n",
    "    mae = np.abs(preds - y[train_time_points:train_time_points+step]).mean()\n",
    "    return mae\n",
    "\n",
    "study = optuna.create_study(direction='minimize')\n",
    "study.optimize(objective, n_trials=50)"
   ]
  },
  {
   "cell_type": "code",
   "execution_count": 8,
   "id": "e4e54d8e-ec38-4ced-af64-7557fa2f519a",
   "metadata": {},
   "outputs": [],
   "source": [
    "X_tr1 = X[1:train_time_points-1,:]  # t1 ~ t28\n",
    "X_tr2 = X[0:train_time_points-2,:]  # t0 ~ t27\n",
    "X_tr1_trc = torch.tensor(train1,dtype=torch.float64)\n",
    "X_tr2_trc = torch.tensor(train2,dtype=torch.float64)\n",
    "INPUT_SIZE = X_tr1.shape[1]\n"
   ]
  },
  {
   "cell_type": "code",
   "execution_count": 10,
   "id": "b9b3925e-791c-40be-9645-d44cc112362e",
   "metadata": {},
   "outputs": [
    {
     "data": {
      "text/plain": [
       "array([[ 4.30532237,  2.98566922, 23.70626533, ..., -6.32701819,\n",
       "        -2.13357258, 30.06205446],\n",
       "       [ 4.15044866,  3.32593112, 22.7349345 , ..., -5.48570843,\n",
       "        -1.92695022, 28.73346745],\n",
       "       [ 4.08841884,  3.72548179, 21.83707314, ..., -4.76907114,\n",
       "        -1.87950821, 27.43083272],\n",
       "       ...,\n",
       "       [12.98255029, 15.16906991, 30.18761236, ..., -3.18655783,\n",
       "        -5.56765015, 13.70211602],\n",
       "       [13.30363694, 14.00537627, 32.37058175, ..., -3.65253484,\n",
       "        -6.43447018, 13.39004451],\n",
       "       [13.30468528, 12.33523865, 34.11427435, ..., -4.20697861,\n",
       "        -7.44863723, 13.22554475]])"
      ]
     },
     "execution_count": 10,
     "metadata": {},
     "output_type": "execute_result"
    }
   ],
   "source": []
  },
  {
   "cell_type": "code",
   "execution_count": 123,
   "id": "5039bea8-c66d-4f20-8c4d-60a9f70ff452",
   "metadata": {},
   "outputs": [
    {
     "data": {
      "text/plain": [
       "[<matplotlib.lines.Line2D at 0x7f9ab22a7400>]"
      ]
     },
     "execution_count": 123,
     "metadata": {},
     "output_type": "execute_result"
    },
    {
     "data": {
      "image/png": "[encoded data removed]",
      "text/plain": [
       "<Figure size 640x480 with 1 Axes>"
      ]
     },
     "metadata": {},
     "output_type": "display_data"
    }
   ],
   "source": [
    "train1 = data[1:train_time_points-1,:]  # t1 ~ t28\n",
    "train2 = data[0:train_time_points-2,:]  # t0 ~ t27\n",
    "Train1 = torch.tensor(train1,dtype=torch.float64)\n",
    "Train2 = torch.tensor(train2,dtype=torch.float64)\n",
    "INPUT_SIZE = train1.shape[1]\n",
    "Label = np.loadtxt(f'{root}/x.txt')\n",
    "plt.plot(Label)"
   ]
  },
  {
   "cell_type": "code",
   "execution_count": 124,
   "id": "a65a851e-d0eb-4859-80b1-1a08f6a4761a",
   "metadata": {},
   "outputs": [
    {
     "data": {
      "text/plain": [
       "torch.Size([2, 90])"
      ]
     },
     "execution_count": 124,
     "metadata": {},
     "output_type": "execute_result"
    }
   ],
   "source": [
    "Pred = data[train_time_points - 2:train_time_points, ]\n",
    "Pred = torch.tensor(Pred).to(device)\n",
    "Pred.shape"
   ]
  },
  {
   "cell_type": "code",
   "execution_count": 125,
   "id": "690a6b72-2cb8-476a-a6a1-e92e7f8b717e",
   "metadata": {},
   "outputs": [
    {
     "data": {
      "text/plain": [
       "90"
      ]
     },
     "execution_count": 125,
     "metadata": {},
     "output_type": "execute_result"
    }
   ],
   "source": [
    "INPUT_SIZE"
   ]
  },
  {
   "cell_type": "code",
   "execution_count": 126,
   "id": "3b581b9e-2607-402f-9b42-44286e6fbd38",
   "metadata": {},
   "outputs": [
    {
     "name": "stdout",
     "output_type": "stream",
     "text": [
      "NN(\n",
      "  (layers): Sequential(\n",
      "    (0): Linear(in_features=90, out_features=500, bias=True)\n",
      "    (1): BatchNorm1d(500, eps=1e-05, momentum=0.1, affine=True, track_running_stats=True)\n",
      "    (2): LeakyReLU(negative_slope=0.01)\n",
      "    (3): Dropout(p=0.1, inplace=False)\n",
      "    (4): Linear(in_features=500, out_features=200, bias=True)\n",
      "    (5): BatchNorm1d(200, eps=1e-05, momentum=0.1, affine=True, track_running_stats=True)\n",
      "    (6): LeakyReLU(negative_slope=0.01)\n",
      "    (7): Dropout(p=0.1, inplace=False)\n",
      "    (8): Linear(in_features=200, out_features=150, bias=True)\n",
      "    (9): BatchNorm1d(150, eps=1e-05, momentum=0.1, affine=True, track_running_stats=True)\n",
      "    (10): LeakyReLU(negative_slope=0.01)\n",
      "    (11): Dropout(p=0.1, inplace=False)\n",
      "    (12): Linear(in_features=150, out_features=50, bias=True)\n",
      "    (13): BatchNorm1d(50, eps=1e-05, momentum=0.1, affine=True, track_running_stats=True)\n",
      "    (14): LeakyReLU(negative_slope=0.01)\n",
      "    (15): Dropout(p=0.1, inplace=False)\n",
      "    (16): Linear(in_features=50, out_features=1, bias=True)\n",
      "  )\n",
      ")\n"
     ]
    }
   ],
   "source": [
    "units = [INPUT_SIZE]+[500, 200, 150, 50]\n",
    "net = NN(units)\n",
    "print(net)"
   ]
  },
  {
   "cell_type": "code",
   "execution_count": 127,
   "id": "3b44ff65-d409-4113-bcd3-a2ad687680a9",
   "metadata": {},
   "outputs": [
    {
     "data": {
      "text/plain": [
       "(28, (28, 90))"
      ]
     },
     "execution_count": 127,
     "metadata": {},
     "output_type": "execute_result"
    }
   ],
   "source": [
    "len(label), train1.shape"
   ]
  },
  {
   "cell_type": "code",
   "execution_count": 128,
   "id": "b114b696-1319-4094-ba36-4d0f1230978d",
   "metadata": {},
   "outputs": [
    {
     "name": "stdout",
     "output_type": "stream",
     "text": [
      "0 0\n",
      "0 1\n",
      "0 2\n",
      "0 3\n",
      "0 4\n",
      "1 0\n",
      "1 1\n",
      "1 2\n",
      "1 3\n",
      "1 4\n",
      "2 0\n",
      "2 1\n",
      "2 2\n",
      "2 3\n",
      "2 4\n",
      "3 0\n",
      "3 1\n",
      "3 2\n",
      "3 3\n",
      "3 4\n",
      "4 0\n",
      "4 1\n",
      "4 2\n",
      "4 3\n",
      "4 4\n"
     ]
    }
   ],
   "source": [
    "steps = 5\n",
    "repeating = 5\n",
    "\n",
    "final_predicts = np.array([0.0]*steps)\n",
    "for j in range(repeating):  # 乱数\n",
    "    label = Label[2+period:train_time_points+period,]\n",
    "    label = list(label)\n",
    "    targets = []\n",
    "    predicts = []\n",
    "    errors = []\n",
    "    for index in range(steps): # stepでどこまで\n",
    "        print(j,index)\n",
    "        LABEL = np.array(label).reshape(train_time_points - 2, 1)\n",
    "        LABEL = torch.tensor(LABEL, dtype=torch.float64).to(device)\n",
    "        \n",
    "        # 1個目のモデル定義\n",
    "        model1 = NN(units)\n",
    "        model1 = model1.to(device)\n",
    "        optimizer1 = torch.optim.Adam(model1.parameters(),\n",
    "                                      lr=LR1,\n",
    "                                      weight_decay=w)\n",
    "        # 2個目のモデル定義\n",
    "        model2 = NN(units)\n",
    "        model2 = model2.to(device)\n",
    "        optimizer2 = torch.optim.Adam(model2.parameters(),\n",
    "                                      lr=LR2,\n",
    "                                      weight_decay=w)\n",
    "        loss_function = nn.MSELoss()\n",
    "        \n",
    "        # 学習\n",
    "        model1 = model1.double()\n",
    "        model2 = model2.double()\n",
    "        \n",
    "        modelpreds = []\n",
    "        for epoch in range(EPOCH):\n",
    "            model1.train()\n",
    "            model2.train()\n",
    "            train1_dropout_data = torch.tensor(newdropout(Train1.numpy(), int(INPUT_SIZE*D)),dtype=torch.float64)\n",
    "            train2_dropout_data = torch.tensor(newdropout(Train2.numpy(), int(INPUT_SIZE*D)),dtype=torch.float64)\n",
    "            \n",
    "            train1_dropout_data = train1_dropout_data.to(device)\n",
    "            train2_dropout_data = train2_dropout_data.to(device)\n",
    "            output1 = model1(train1_dropout_data)\n",
    "            output2 = model2(train2_dropout_data)\n",
    "            # loss function\n",
    "            loss11, loss12, loss1 = evaluate(output1, output2, alpha, LABEL, loss_function)\n",
    "            optimizer1.zero_grad()\n",
    "            loss1.backward()\n",
    "            optimizer1.step()\n",
    "            output1 = model1(train1_dropout_data)\n",
    "            output2 = model2(train2_dropout_data)\n",
    "            loss21, loss22, loss2 = evaluate(output2, output1, alpha, LABEL, loss_function)\n",
    "            optimizer2.zero_grad()\n",
    "            loss2.backward()\n",
    "            optimizer2.step()\n",
    "            \n",
    "            # if epoch % 10 == 0:\n",
    "            #     print(f\"epoch : {epoch}, loss1 : {loss1}, loss2 : {loss2}\")\n",
    "            \n",
    "            model1.eval()\n",
    "            model2.eval()\n",
    "            pred1 = model1(Pred)\n",
    "            pred2 = model2(Pred)\n",
    "            modelpreds.append((pred1[1].item() + pred2[0].item()) / 2.0)\n",
    "            \n",
    "        target = Label[train_time_points + index + period]\n",
    "        targets.append(target)\n",
    "        predicts.append(modelpreds[-1])\n",
    "        \n",
    "    predicts, target = np.array(predicts), np.array(targets)\n",
    "    final_predicts += predicts\n",
    "final_predicts /= repeating\n"
   ]
  },
  {
   "cell_type": "code",
   "execution_count": 130,
   "id": "30e6af4f-86a3-4e87-8123-7ce0d8153b3d",
   "metadata": {},
   "outputs": [
    {
     "data": {
      "text/plain": [
       "([15.28224219752453,\n",
       "  16.608352466636138,\n",
       "  17.320396937826036,\n",
       "  17.22474627115457,\n",
       "  16.265122945410646],\n",
       " array([16.41887673, 16.26658327, 16.23041114, 16.14579464, 16.16615155]))"
      ]
     },
     "execution_count": 130,
     "metadata": {},
     "output_type": "execute_result"
    }
   ],
   "source": [
    "targets, final_predicts"
   ]
  },
  {
   "cell_type": "code",
   "execution_count": 102,
   "id": "a09ce614-a52c-490b-abde-f68d8b697029",
   "metadata": {},
   "outputs": [
    {
     "data": {
      "text/plain": [
       "[<matplotlib.lines.Line2D at 0x7f9b033d6a00>]"
      ]
     },
     "execution_count": 102,
     "metadata": {},
     "output_type": "execute_result"
    },
    {
     "data": {
      "image/png": "[encoded data removed]",
      "text/plain": [
       "<Figure size 640x480 with 1 Axes>"
      ]
     },
     "metadata": {},
     "output_type": "display_data"
    }
   ],
   "source": [
    "plt.plot(Label)"
   ]
  },
  {
   "cell_type": "markdown",
   "id": "d1c2dee2-c8ad-4537-83be-50e3276cabe5",
   "metadata": {
    "tags": []
   },
   "source": [
    "## 2期以上先まで予測する場合"
   ]
  },
  {
   "cell_type": "code",
   "execution_count": 166,
   "id": "e160865a-a75f-4b9b-b3c5-5e01f149fc72",
   "metadata": {},
   "outputs": [],
   "source": [
    "step = 2\n",
    "repeat = 10\n",
    "NEWINPUTS = []\n",
    "for i in range(step):\n",
    "    NEWINPUTS.append(data[step-i-1:train_time_points-i-1,:])"
   ]
  },
  {
   "cell_type": "code",
   "execution_count": 167,
   "id": "134f7bdb-cbd8-48a4-8377-c37d43575279",
   "metadata": {},
   "outputs": [],
   "source": [
    "NEWLABELS = Label[step:train_time_points].reshape(-1,1)\n",
    "NEWLABELS = torch.tensor(NEWLABELS, dtype=torch.float64).to(device)\n",
    "def alldropout(data, subspace):\n",
    "    result = [np.zeros_like(d) for d in data]\n",
    "    shuffled_indices=np.random.permutation(data[0].shape[1])\n",
    "    indices =shuffled_indices[:subspace]\n",
    "    for i in range(len(result)):\n",
    "        result[i][:, indices] = data[i][:, indices]\n",
    "    return result\n"
   ]
  },
  {
   "cell_type": "code",
   "execution_count": 169,
   "id": "87b3876e-6541-4d07-822d-6703f82e4d19",
   "metadata": {},
   "outputs": [
    {
     "ename": "NameError",
     "evalue": "name 'mini_train' is not defined",
     "output_type": "error",
     "traceback": [
      "\u001b[0;31m---------------------------------------------------------------------------\u001b[0m",
      "\u001b[0;31mNameError\u001b[0m                                 Traceback (most recent call last)",
      "Input \u001b[0;32mIn [169]\u001b[0m, in \u001b[0;36m<cell line: 13>\u001b[0;34m()\u001b[0m\n\u001b[1;32m     17\u001b[0m         MODELS[i]\u001b[38;5;241m.\u001b[39mload_state_dict(saved_parametes)\n\u001b[1;32m     18\u001b[0m         optimizers \u001b[38;5;241m=\u001b[39m [torch\u001b[38;5;241m.\u001b[39moptim\u001b[38;5;241m.\u001b[39mAdam(model\u001b[38;5;241m.\u001b[39mparameters(),lr\u001b[38;5;241m=\u001b[39mLR,weight_decay\u001b[38;5;241m=\u001b[39mw) \u001b[38;5;28;01mfor\u001b[39;00m model \u001b[38;5;129;01min\u001b[39;00m MODELS]\n\u001b[0;32m---> 19\u001b[0m     final_predicts \u001b[38;5;241m=\u001b[39m final_predicts \u001b[38;5;241m+\u001b[39m \u001b[43mmini_train\u001b[49m(cycle, EPOCH, D, alpha, MODELS, optimizers, loss_function)\n\u001b[1;32m     20\u001b[0m final_predicts \u001b[38;5;241m/\u001b[39m\u001b[38;5;241m=\u001b[39m repeat\n\u001b[1;32m     21\u001b[0m targets \u001b[38;5;241m=\u001b[39m Label[train_time_points:train_time_points\u001b[38;5;241m+\u001b[39mstep]\n",
      "\u001b[0;31mNameError\u001b[0m: name 'mini_train' is not defined"
     ]
    }
   ],
   "source": [
    "cycle = 3\n",
    "EPOCH = 5\n",
    "D = 0.5\n",
    "DROPOUT = 0.5\n",
    "alpha=1\n",
    "LR = 1e-3\n",
    "w = 0\n",
    "\n",
    "final_predicts = np.array([0.0] * step)\n",
    "\n",
    "loss_function = nn.MSELoss()\n",
    "\n",
    "for r in range(repeat):\n",
    "    MODELS = [NN(units).to(device).double() for i in range(step)]\n",
    "    for i in range(step):\n",
    "        saved_parametes = torch.load('./models/'+str(r)+'_'+str(i)+'.pt')\n",
    "        MODELS[i].load_state_dict(saved_parametes)\n",
    "        optimizers = [torch.optim.Adam(model.parameters(),lr=LR,weight_decay=w) for model in MODELS]\n",
    "    final_predicts = final_predicts + mini_train(cycle, EPOCH, D, alpha, MODELS, optimizers, loss_function)\n",
    "final_predicts /= repeat\n",
    "targets = Label[train_time_points:train_time_points+step]\n",
    "targets"
   ]
  },
  {
   "cell_type": "code",
   "execution_count": null,
   "id": "f0ec17ac-6a1d-44d9-892f-a7625ab5a241",
   "metadata": {},
   "outputs": [],
   "source": []
  }
 ],
 "metadata": {
  "kernelspec": {
   "display_name": "Python 3 (ipykernel)",
   "language": "python",
   "name": "python3"
  },
  "language_info": {
   "codemirror_mode": {
    "name": "ipython",
    "version": 3
   },
   "file_extension": ".py",
   "mimetype": "text/x-python",
   "name": "python",
   "nbconvert_exporter": "python",
   "pygments_lexer": "ipython3",
   "version": "3.9.13"
  }
 },
 "nbformat": 4,
 "nbformat_minor": 5
}
